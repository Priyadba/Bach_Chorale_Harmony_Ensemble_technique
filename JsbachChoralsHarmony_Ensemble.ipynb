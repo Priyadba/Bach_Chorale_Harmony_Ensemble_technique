{
  "cells": [
    {
      "cell_type": "markdown",
      "metadata": {
        "id": "nw-BRN_qRxoS"
      },
      "source": [
        "<h1>Objective</h1>"
      ]
    },
    {
      "cell_type": "markdown",
      "metadata": {
        "id": "xCC0cTJxRxoT"
      },
      "source": [
        "The dataset we use is Bach Chorale Harmony Data. The dataset contains information of 60 chorales which are divided into 5665 events, each event was described by event number, occurrence of 12 pitches (12 features), bass, meter and chord label.\n",
        "\n",
        "Analyse the dataset and classify the Chord label by applying machine learning clasiffication using ensemble techniques."
      ]
    },
    {
      "cell_type": "markdown",
      "metadata": {
        "id": "BHDVvh88RxoT"
      },
      "source": [
        "<h2>PART A</h2>"
      ]
    },
    {
      "cell_type": "markdown",
      "metadata": {
        "id": "SWQhPmccRxoT"
      },
      "source": [
        "### Import the required libraries and dataset"
      ]
    },
    {
      "cell_type": "markdown",
      "metadata": {
        "id": "2ik0eIIaRxoU"
      },
      "source": [
        "Let's start with importing the relevant modules. We will read the dataset and try to understand the data."
      ]
    },
    {
      "cell_type": "code",
      "execution_count": null,
      "metadata": {
        "id": "HkWenjFiRxoU"
      },
      "outputs": [],
      "source": [
        "import pandas as pd\n",
        "import numpy as np\n",
        "import matplotlib.pyplot as plt\n",
        "import seaborn as sns\n",
        "from sklearn.feature_selection import SelectKBest,chi2\n",
        "from imblearn.over_sampling import SMOTE\n",
        "from collections import Counter\n",
        "from sklearn.preprocessing import LabelEncoder\n",
        "from scipy.stats import chi2_contingency\n",
        "from sklearn.model_selection import train_test_split\n",
        "from sklearn.neighbors import KNeighborsClassifier\n",
        "from sklearn.metrics import accuracy_score, f1_score, recall_score,confusion_matrix\n",
        "from sklearn.preprocessing import MinMaxScaler\n",
        "import statsmodels.api as sm\n",
        "%matplotlib inline\n",
        "import warnings\n",
        "warnings.filterwarnings('ignore')"
      ]
    },
    {
      "cell_type": "markdown",
      "metadata": {
        "id": "SKVbHPP3RxoW"
      },
      "source": [
        "#### Read the  files"
      ]
    },
    {
      "cell_type": "code",
      "execution_count": null,
      "metadata": {
        "id": "Eglg4_VnRxoW"
      },
      "outputs": [],
      "source": [
        "# loading the dataset into our notebook\n",
        "data = pd.read_csv(\"jsbach_chorals_harmony.data\",header=None)"
      ]
    },
    {
      "cell_type": "code",
      "execution_count": null,
      "metadata": {
        "id": "mWSQbBSLRxoX"
      },
      "outputs": [],
      "source": [
        "# loading the names file\n",
        "names = pd.read_fwf(\"jsbach_chorals_harmony.names\")"
      ]
    },
    {
      "cell_type": "markdown",
      "metadata": {
        "id": "tYBY8Bv8RxoX"
      },
      "source": [
        "## Data Visualization and Exploration \n"
      ]
    },
    {
      "cell_type": "markdown",
      "metadata": {
        "id": "RSmdsZLLRxoX"
      },
      "source": [
        "We will print the \"jsbach_chorals_harmony.data\" file data and observe the values present in it."
      ]
    },
    {
      "cell_type": "markdown",
      "metadata": {
        "id": "s4wDB60ZRxoY"
      },
      "source": [
        "### Printing 2 rows to identify all the features present in the dataset and if the target matches with them"
      ]
    },
    {
      "cell_type": "code",
      "execution_count": null,
      "metadata": {
        "id": "Az-R2lDtRxoY",
        "outputId": "76e1f62d-9c1a-432f-f5db-9ea207c3c230"
      },
      "outputs": [
        {
          "data": {
            "text/html": [
              "<div>\n",
              "<style scoped>\n",
              "    .dataframe tbody tr th:only-of-type {\n",
              "        vertical-align: middle;\n",
              "    }\n",
              "\n",
              "    .dataframe tbody tr th {\n",
              "        vertical-align: top;\n",
              "    }\n",
              "\n",
              "    .dataframe thead th {\n",
              "        text-align: right;\n",
              "    }\n",
              "</style>\n",
              "<table border=\"1\" class=\"dataframe\">\n",
              "  <thead>\n",
              "    <tr style=\"text-align: right;\">\n",
              "      <th></th>\n",
              "      <th>0</th>\n",
              "      <th>1</th>\n",
              "      <th>2</th>\n",
              "      <th>3</th>\n",
              "      <th>4</th>\n",
              "      <th>5</th>\n",
              "      <th>6</th>\n",
              "      <th>7</th>\n",
              "      <th>8</th>\n",
              "      <th>9</th>\n",
              "      <th>10</th>\n",
              "      <th>11</th>\n",
              "      <th>12</th>\n",
              "      <th>13</th>\n",
              "      <th>14</th>\n",
              "      <th>15</th>\n",
              "      <th>16</th>\n",
              "    </tr>\n",
              "  </thead>\n",
              "  <tbody>\n",
              "    <tr>\n",
              "      <th>0</th>\n",
              "      <td>000106b_</td>\n",
              "      <td>1</td>\n",
              "      <td>YES</td>\n",
              "      <td>NO</td>\n",
              "      <td>NO</td>\n",
              "      <td>NO</td>\n",
              "      <td>NO</td>\n",
              "      <td>YES</td>\n",
              "      <td>NO</td>\n",
              "      <td>NO</td>\n",
              "      <td>NO</td>\n",
              "      <td>YES</td>\n",
              "      <td>NO</td>\n",
              "      <td>NO</td>\n",
              "      <td>F</td>\n",
              "      <td>3</td>\n",
              "      <td>F_M</td>\n",
              "    </tr>\n",
              "    <tr>\n",
              "      <th>1</th>\n",
              "      <td>000106b_</td>\n",
              "      <td>2</td>\n",
              "      <td>YES</td>\n",
              "      <td>NO</td>\n",
              "      <td>NO</td>\n",
              "      <td>NO</td>\n",
              "      <td>YES</td>\n",
              "      <td>NO</td>\n",
              "      <td>NO</td>\n",
              "      <td>YES</td>\n",
              "      <td>NO</td>\n",
              "      <td>NO</td>\n",
              "      <td>NO</td>\n",
              "      <td>NO</td>\n",
              "      <td>E</td>\n",
              "      <td>5</td>\n",
              "      <td>C_M</td>\n",
              "    </tr>\n",
              "  </tbody>\n",
              "</table>\n",
              "</div>"
            ],
            "text/plain": [
              "         0   1    2    3    4    5    6    7    8    9    10   11   12   13  \\\n",
              "0  000106b_   1  YES   NO   NO   NO   NO  YES   NO   NO   NO  YES   NO   NO   \n",
              "1  000106b_   2  YES   NO   NO   NO  YES   NO   NO  YES   NO   NO   NO   NO   \n",
              "\n",
              "  14  15    16  \n",
              "0  F   3   F_M  \n",
              "1  E   5   C_M  "
            ]
          },
          "execution_count": 4,
          "metadata": {},
          "output_type": "execute_result"
        }
      ],
      "source": [
        "data.head(2)"
      ]
    },
    {
      "cell_type": "markdown",
      "metadata": {
        "id": "0NrB5p6FRxoZ"
      },
      "source": [
        "Above data does not contain any column names. We will print the next file to analyze further."
      ]
    },
    {
      "cell_type": "code",
      "execution_count": null,
      "metadata": {
        "scrolled": false,
        "id": "e9dQ3rYcRxoZ",
        "outputId": "265514fe-04a7-4569-a0d7-e1ce41190e31"
      },
      "outputs": [
        {
          "name": "stdout",
          "output_type": "stream",
          "text": [
            "1. Title: Bach Chorales Harmony\n",
            "\n",
            "2. Source Information\n",
            "   -- Creators: Daniele P. Radicioni and Roberto Esposito\n",
            "   -- Donor: Daniele P. Radicioni (radicion@di.unito.it) and Roberto Esposito (esposito@di.unito.it)\n",
            "   -- Date: May, 2014\n",
            "\n",
            "3. Past Usage:\n",
            "        1. D. P. Radicioni and R. Esposito. Advances in Music Information Retrieval,\n",
            "        chapter BREVE: an HMPerceptron-Based Chord Recognition System. Studies\n",
            "        in Computational Intelligence, Zbigniew W. Ras and Alicja Wieczorkowska\n",
            "        (Editors), Springer, 2010.\n",
            "        2. Esposito, R. and Radicioni, D. P., CarpeDiem: Optimizing the Viterbi\n",
            "          Algorithm and Applications to Supervised Sequential Learning, Journal\n",
            "          of Machine Learning Research, 10(Aug):1851-1880, 2009.\n",
            "\n",
            "       -- Results:\n",
            "          -- prediction of the labels of the chord resonating for each\n",
            "             event (accuracy 80.06%)\n",
            "\n",
            "  - Predicted attribute: chord label\n",
            "\n",
            "4. Relevant Information:\n",
            "   -- Abstract\n",
            "      Given a musical flow, the task of music harmony analysis consists in associating \n",
            "      a label to each time point. Such labels reveal the underlying harmony by indicating\n",
            "      a fundamental note (root) and a mode, using chord names such as â€˜C minorâ€™.\n",
            "\n",
            "      The music analysis task can be naturally represented as a supervised sequential learning\n",
            "      problem. In fact, by considering only the currently resonating pitch classes, one\n",
            "      would hardly produce reasonable analyses. Experimental evidences about human\n",
            "      cognition reveal that in order to disambiguate unclear cases, composers and listeners\n",
            "      refer to chord transitions as well: in these cases, context plays a\n",
            "      fundamental role, and contextual cues can be useful to the analysis.\n",
            "\n",
            "      The data set is composed of 60 chorales (5665 events) by J.S. Bach (1675-1750).\n",
            "      Each event of each chorale is labelled using 1 among 101 chord labels.\n",
            "\n",
            "   -- Pitch classes information has been extracted from MIDI sources downloaded\n",
            "      from (JSB Chorales)[http://www.jsbchorales.net]. Meter information has\n",
            "      been computed through the Meter program which is part of the Melisma\n",
            "      music analyser (Melisma)[http://www.link.cs.cmu.edu/music-analysis/].\n",
            "      Chord labels have been manually annotated by a human expert.\n",
            "\n",
            "5. Number of Instances: 60 sequences, 5665 events\n",
            "\n",
            "6. Number of Attributes: 17 (sequence name, event number, notes presence (x12),\n",
            "                              chord)\n",
            "\n",
            "7. Attribute Information:\n",
            "   1. Choral ID: corresponding to the file names from (Bach Central)[http://www.bachcentral.com].\n",
            "   2. Event number: index (starting from 1) of the event inside the chorale.\n",
            "   3-14. Pitch classes: YES/NO depending on whether a given pitch is present.\n",
            "      Pitch classes/attribute correspondence is as follows:\n",
            "        C       -> 3\n",
            "        C#/Db   -> 4\n",
            "        D       -> 5\n",
            "        ...\n",
            "        B       -> 14\n",
            "   15. Bass: Pitch class of the bass note\n",
            "   16. Meter: integers from 1 to 5. Lower numbers denote less accented events,\n",
            "      higher numbers denote more accented events.\n",
            "   17. Chord label: Chord resonating during the given event.\n",
            "\n",
            "8. Missing Attribute Values: None\n",
            "\n",
            "9. Class Distribution:\n",
            "        D_M:   503\n",
            "        G_M:   489\n",
            "        C_M:   488\n",
            "        F_M:   389\n",
            "        A_M:   352\n",
            "        BbM:   312\n",
            "        E_M:   295\n",
            "        A_m:   258\n",
            "        E_m:   241\n",
            "        B_m:   217\n",
            "        G_m:   179\n",
            "        D_m:   165\n",
            "        EbM:   146\n",
            "        C_m:   144\n",
            "        F#m:   143\n",
            "        B_M:   143\n",
            "        F#M:    90\n",
            "       C_M7:    66\n",
            "       D_M7:    58\n",
            "       A_M7:    56\n",
            "       G_M7:    52\n",
            "       B_M7:    46\n",
            "       E_M7:    43\n",
            "        F_m:    42\n",
            "        C#M:    39\n",
            "       F_M7:    38\n",
            "        AbM:    37\n",
            "       F#M7:    34\n",
            "       D_m7:    33\n",
            "        Bbm:    26\n",
            "        C#m:    24\n",
            "       E_m7:    24\n",
            "        DbM:    21\n",
            "       C_m7:    20\n",
            "       B_m7:    19\n",
            "       F#m7:    19\n",
            "       G_m7:    18\n",
            "        B_d:    17\n",
            "       C_m6:    17\n",
            "       D_M4:    16\n",
            "       C_M4:    16\n",
            "       A_M4:    16\n",
            "       C#d7:    15\n",
            "        F#d:    14\n",
            "       E_M4:    14\n",
            "       F_M4:    14\n",
            "       E_m6:    14\n",
            "       F#M4:    12\n",
            "       D_m6:    12\n",
            "        G#d:    11\n",
            "       A_m7:    11\n",
            "        C#d:    10\n",
            "       A_m6:    10\n",
            "       C#m7:     9\n",
            "       G_M4:     8\n",
            "       B_d7:     8\n",
            "       C#M7:     7\n",
            "       F_m7:     7\n",
            "        D#d:     7\n",
            "       F#m6:     7\n",
            "        E_d:     6\n",
            "        G#m:     6\n",
            "       Bbm6:     6\n",
            "       C_M6:     6\n",
            "       G#d7:     6\n",
            "        A#d:     5\n",
            "        A_d:     5\n",
            "        Bbd:     5\n",
            "       D#d7:     4\n",
            "       F_M6:     4\n",
            "        Dbm:     4\n",
            "       A#d7:     4\n",
            "       D_d7:     4\n",
            "       D_M6:     3\n",
            "       F_m6:     3\n",
            "       B_M4:     3\n",
            "       G_M6:     3\n",
            "        G_d:     3\n",
            "        F_d:     3\n",
            "       G_m6:     3\n",
            "       Dbm7:     3\n",
            "       BbM7:     3\n",
            "       C#d6:     2\n",
            "        Abm:     2\n",
            "       C_d7:     2\n",
            "       A_m4:     2\n",
            "        Dbd:     2\n",
            "       Dbd7:     2\n",
            "       C#M4:     2\n",
            "       C_d6:     2\n",
            "       A_M6:     2\n",
            "        D#m:     2\n",
            "        D#M:     2\n",
            "       B_m6:     2\n",
            "        Ebd:     1\n",
            "       F_d7:     1\n",
            "       DbM7:     1\n",
            "       EbM7:     1\n",
            "        G#M:     1\n",
            "       F#d7:     1\n",
            "       D#d6:     1\n",
            "        Abd:     1\n",
            "\n"
          ]
        }
      ],
      "source": [
        "with open(\"jsbach_chorals_harmony.names\",'r+') as names:  \n",
        "        print(names.read())"
      ]
    },
    {
      "cell_type": "markdown",
      "metadata": {
        "id": "nmZD2AQ7Rxoa"
      },
      "source": [
        "#### Renaming the columns of our dataset by taking attributes from 'jsbach_chorals_harmony.names' file."
      ]
    },
    {
      "cell_type": "code",
      "execution_count": null,
      "metadata": {
        "id": "xz-bAwm5Rxoa"
      },
      "outputs": [],
      "source": [
        "data_col=['ChoralId','EventNo','C', 'C#/Db','D','D#/Eb','E','F','F#/Gb','G','G#/Ab','A','A#/Bb','B',\n",
        "          'Bass','Meter','Chordlabel']"
      ]
    },
    {
      "cell_type": "code",
      "execution_count": null,
      "metadata": {
        "id": "AbBVHNNyRxoa"
      },
      "outputs": [],
      "source": [
        "data.columns=data_col"
      ]
    },
    {
      "cell_type": "markdown",
      "metadata": {
        "id": "--3EO8IBRxob"
      },
      "source": [
        "Printing again the first 2 rows"
      ]
    },
    {
      "cell_type": "code",
      "execution_count": null,
      "metadata": {
        "id": "5AniHjkzRxob",
        "outputId": "4687f8d8-440b-48da-cb55-52b2d61bd603"
      },
      "outputs": [
        {
          "data": {
            "text/html": [
              "<div>\n",
              "<style scoped>\n",
              "    .dataframe tbody tr th:only-of-type {\n",
              "        vertical-align: middle;\n",
              "    }\n",
              "\n",
              "    .dataframe tbody tr th {\n",
              "        vertical-align: top;\n",
              "    }\n",
              "\n",
              "    .dataframe thead th {\n",
              "        text-align: right;\n",
              "    }\n",
              "</style>\n",
              "<table border=\"1\" class=\"dataframe\">\n",
              "  <thead>\n",
              "    <tr style=\"text-align: right;\">\n",
              "      <th></th>\n",
              "      <th>ChoralId</th>\n",
              "      <th>EventNo</th>\n",
              "      <th>C</th>\n",
              "      <th>C#/Db</th>\n",
              "      <th>D</th>\n",
              "      <th>D#/Eb</th>\n",
              "      <th>E</th>\n",
              "      <th>F</th>\n",
              "      <th>F#/Gb</th>\n",
              "      <th>G</th>\n",
              "      <th>G#/Ab</th>\n",
              "      <th>A</th>\n",
              "      <th>A#/Bb</th>\n",
              "      <th>B</th>\n",
              "      <th>Bass</th>\n",
              "      <th>Meter</th>\n",
              "      <th>Chordlabel</th>\n",
              "    </tr>\n",
              "  </thead>\n",
              "  <tbody>\n",
              "    <tr>\n",
              "      <th>0</th>\n",
              "      <td>000106b_</td>\n",
              "      <td>1</td>\n",
              "      <td>YES</td>\n",
              "      <td>NO</td>\n",
              "      <td>NO</td>\n",
              "      <td>NO</td>\n",
              "      <td>NO</td>\n",
              "      <td>YES</td>\n",
              "      <td>NO</td>\n",
              "      <td>NO</td>\n",
              "      <td>NO</td>\n",
              "      <td>YES</td>\n",
              "      <td>NO</td>\n",
              "      <td>NO</td>\n",
              "      <td>F</td>\n",
              "      <td>3</td>\n",
              "      <td>F_M</td>\n",
              "    </tr>\n",
              "    <tr>\n",
              "      <th>1</th>\n",
              "      <td>000106b_</td>\n",
              "      <td>2</td>\n",
              "      <td>YES</td>\n",
              "      <td>NO</td>\n",
              "      <td>NO</td>\n",
              "      <td>NO</td>\n",
              "      <td>YES</td>\n",
              "      <td>NO</td>\n",
              "      <td>NO</td>\n",
              "      <td>YES</td>\n",
              "      <td>NO</td>\n",
              "      <td>NO</td>\n",
              "      <td>NO</td>\n",
              "      <td>NO</td>\n",
              "      <td>E</td>\n",
              "      <td>5</td>\n",
              "      <td>C_M</td>\n",
              "    </tr>\n",
              "  </tbody>\n",
              "</table>\n",
              "</div>"
            ],
            "text/plain": [
              "   ChoralId  EventNo    C C#/Db    D D#/Eb    E    F F#/Gb    G G#/Ab    A  \\\n",
              "0  000106b_        1  YES    NO   NO    NO   NO  YES    NO   NO    NO  YES   \n",
              "1  000106b_        2  YES    NO   NO    NO  YES   NO    NO  YES    NO   NO   \n",
              "\n",
              "  A#/Bb    B Bass  Meter Chordlabel  \n",
              "0    NO   NO    F      3        F_M  \n",
              "1    NO   NO    E      5        C_M  "
            ]
          },
          "execution_count": 8,
          "metadata": {},
          "output_type": "execute_result"
        }
      ],
      "source": [
        "data.head(2)"
      ]
    },
    {
      "cell_type": "code",
      "execution_count": null,
      "metadata": {
        "id": "ru0Yi8zeRxob",
        "outputId": "651bc4ee-1bc2-435b-e942-ee6b226ad044"
      },
      "outputs": [
        {
          "data": {
            "text/plain": [
              "(5665, 17)"
            ]
          },
          "execution_count": 9,
          "metadata": {},
          "output_type": "execute_result"
        }
      ],
      "source": [
        "# Print the shape of the dataset\n",
        "data.shape"
      ]
    },
    {
      "cell_type": "markdown",
      "metadata": {
        "id": "EtmbhEHtRxob"
      },
      "source": [
        " ### Description and Basic statistical details"
      ]
    },
    {
      "cell_type": "markdown",
      "metadata": {
        "id": "LN_5l6QBRxoc"
      },
      "source": [
        "We will look into the data desciption and data types to understand more about the data"
      ]
    },
    {
      "cell_type": "code",
      "execution_count": null,
      "metadata": {
        "id": "Sn1XqpncRxoc",
        "outputId": "3709c2f4-ce43-44c6-96a5-4945dbf9d230"
      },
      "outputs": [
        {
          "data": {
            "text/html": [
              "<div>\n",
              "<style scoped>\n",
              "    .dataframe tbody tr th:only-of-type {\n",
              "        vertical-align: middle;\n",
              "    }\n",
              "\n",
              "    .dataframe tbody tr th {\n",
              "        vertical-align: top;\n",
              "    }\n",
              "\n",
              "    .dataframe thead th {\n",
              "        text-align: right;\n",
              "    }\n",
              "</style>\n",
              "<table border=\"1\" class=\"dataframe\">\n",
              "  <thead>\n",
              "    <tr style=\"text-align: right;\">\n",
              "      <th></th>\n",
              "      <th>EventNo</th>\n",
              "      <th>Meter</th>\n",
              "    </tr>\n",
              "  </thead>\n",
              "  <tbody>\n",
              "    <tr>\n",
              "      <th>count</th>\n",
              "      <td>5665.000000</td>\n",
              "      <td>5665.000000</td>\n",
              "    </tr>\n",
              "    <tr>\n",
              "      <th>mean</th>\n",
              "      <td>53.374404</td>\n",
              "      <td>3.134863</td>\n",
              "    </tr>\n",
              "    <tr>\n",
              "      <th>std</th>\n",
              "      <td>37.268208</td>\n",
              "      <td>1.109710</td>\n",
              "    </tr>\n",
              "    <tr>\n",
              "      <th>min</th>\n",
              "      <td>1.000000</td>\n",
              "      <td>1.000000</td>\n",
              "    </tr>\n",
              "    <tr>\n",
              "      <th>25%</th>\n",
              "      <td>24.000000</td>\n",
              "      <td>2.000000</td>\n",
              "    </tr>\n",
              "    <tr>\n",
              "      <th>50%</th>\n",
              "      <td>48.000000</td>\n",
              "      <td>3.000000</td>\n",
              "    </tr>\n",
              "    <tr>\n",
              "      <th>75%</th>\n",
              "      <td>75.000000</td>\n",
              "      <td>4.000000</td>\n",
              "    </tr>\n",
              "    <tr>\n",
              "      <th>max</th>\n",
              "      <td>207.000000</td>\n",
              "      <td>5.000000</td>\n",
              "    </tr>\n",
              "  </tbody>\n",
              "</table>\n",
              "</div>"
            ],
            "text/plain": [
              "           EventNo        Meter\n",
              "count  5665.000000  5665.000000\n",
              "mean     53.374404     3.134863\n",
              "std      37.268208     1.109710\n",
              "min       1.000000     1.000000\n",
              "25%      24.000000     2.000000\n",
              "50%      48.000000     3.000000\n",
              "75%      75.000000     4.000000\n",
              "max     207.000000     5.000000"
            ]
          },
          "execution_count": 10,
          "metadata": {},
          "output_type": "execute_result"
        }
      ],
      "source": [
        "data.describe()"
      ]
    },
    {
      "cell_type": "markdown",
      "metadata": {
        "id": "F7duLt3TRxoc"
      },
      "source": [
        "**Observation:**\n",
        "Only Meter is numerical column in our dataset and maximum value of it is 5."
      ]
    },
    {
      "cell_type": "code",
      "execution_count": null,
      "metadata": {
        "id": "PfYbK4kkRxoc",
        "outputId": "0ddf2025-e907-4b81-e6a6-86cc79ac0e87"
      },
      "outputs": [
        {
          "name": "stdout",
          "output_type": "stream",
          "text": [
            "<class 'pandas.core.frame.DataFrame'>\n",
            "RangeIndex: 5665 entries, 0 to 5664\n",
            "Data columns (total 17 columns):\n",
            " #   Column      Non-Null Count  Dtype \n",
            "---  ------      --------------  ----- \n",
            " 0   ChoralId    5665 non-null   object\n",
            " 1   EventNo     5665 non-null   int64 \n",
            " 2   C           5665 non-null   object\n",
            " 3   C#/Db       5665 non-null   object\n",
            " 4   D           5665 non-null   object\n",
            " 5   D#/Eb       5665 non-null   object\n",
            " 6   E           5665 non-null   object\n",
            " 7   F           5665 non-null   object\n",
            " 8   F#/Gb       5665 non-null   object\n",
            " 9   G           5665 non-null   object\n",
            " 10  G#/Ab       5665 non-null   object\n",
            " 11  A           5665 non-null   object\n",
            " 12  A#/Bb       5665 non-null   object\n",
            " 13  B           5665 non-null   object\n",
            " 14  Bass        5665 non-null   object\n",
            " 15  Meter       5665 non-null   int64 \n",
            " 16  Chordlabel  5665 non-null   object\n",
            "dtypes: int64(2), object(15)\n",
            "memory usage: 752.5+ KB\n"
          ]
        }
      ],
      "source": [
        "data.info()"
      ]
    },
    {
      "cell_type": "markdown",
      "metadata": {
        "id": "CXEeEZt7Rxoc"
      },
      "source": [
        "The dataset provides the Chord label information. It includes 5664 records and 17 fields.\n",
        "\n",
        "**Observation:**\n",
        "\n",
        "-The given dataset has non-null feature columns of object and int64 datatypes."
      ]
    },
    {
      "cell_type": "markdown",
      "metadata": {
        "id": "ExE6SWDQRxod"
      },
      "source": [
        "### Printing the class label count  & Visualization"
      ]
    },
    {
      "cell_type": "code",
      "execution_count": null,
      "metadata": {
        "id": "J2ynMx93Rxod",
        "outputId": "f9d8bc7e-accc-445a-b65e-f2ab1cc8ebd4"
      },
      "outputs": [
        {
          "data": {
            "text/plain": [
              "array([' F_M', ' C_M', ' D_m', ' BbM', ' C_M7', ' D_m7', ' G_M', ' A_m',\n",
              "       ' C_M4', ' G_m', ' G_M7', ' D_M', ' F#d', ' AbM', ' C#d7', ' D_M7',\n",
              "       ' A_M', ' EbM', ' F_M7', ' C_m', ' A_M4', ' F#m', ' B_M', ' E_M',\n",
              "       ' D#d', ' C#M', ' F#m7', ' A#d', ' B_m', ' E_M7', ' E_m', ' F#M',\n",
              "       ' F#M7', ' B_M7', ' A_m6', ' C#d', ' A_m7', ' A_d', ' C_m7',\n",
              "       ' G_m6', ' D_M4', ' G_m7', ' E_m7', ' E_m6', ' A_M7', ' C#m',\n",
              "       ' C#M7', ' A#d7', ' EbM7', ' B_m7', ' E_M4', ' C#m7', ' F_M4',\n",
              "       ' D_m6', ' G#d', ' G#d7', ' A_m4', ' D_M6', ' F_d', ' B_m6',\n",
              "       ' B_M4', ' C_m6', ' F_m', ' G_M4', ' F_m7', ' C_d6', ' F_m6',\n",
              "       ' G_M6', ' A_M6', ' F_M6', ' F#M4', ' B_d7', ' D_d7', ' E_d',\n",
              "       ' Bbm', ' Bbm6', ' DbM', ' C_d7', ' F#d7', ' Abd', ' Ebd', ' Dbd7',\n",
              "       ' Dbd', ' Bbd', ' Dbm7', ' Abm', ' DbM7', ' Dbm', ' F#m6', ' G#m',\n",
              "       ' B_d', ' C_M6', ' D#m', ' D#M', ' BbM7', ' F_d7', ' C#d6', ' G_d',\n",
              "       ' G#M', ' C#M4', ' D#d6', ' D#d7'], dtype=object)"
            ]
          },
          "execution_count": 12,
          "metadata": {},
          "output_type": "execute_result"
        }
      ],
      "source": [
        "data[\"Chordlabel\"].unique()"
      ]
    },
    {
      "cell_type": "code",
      "execution_count": null,
      "metadata": {
        "id": "iZixCUWqRxod",
        "outputId": "0687d2ba-f67c-40df-88f5-c254c7ea9777"
      },
      "outputs": [
        {
          "name": "stdout",
          "output_type": "stream",
          "text": [
            " D_M     503\n",
            " G_M     489\n",
            " C_M     488\n",
            " F_M     389\n",
            " A_M     352\n",
            "        ... \n",
            " F_d7      1\n",
            " DbM7      1\n",
            " Ebd       1\n",
            " Abd       1\n",
            " F#d7      1\n",
            "Name: Chordlabel, Length: 102, dtype: int64\n",
            "\n",
            "Total number of unique values in Chord label : 102\n"
          ]
        }
      ],
      "source": [
        "print(data[\"Chordlabel\"].value_counts())\n",
        "print()\n",
        "print('Total number of unique values in Chord label :',len(data[\"Chordlabel\"].unique()))"
      ]
    },
    {
      "cell_type": "markdown",
      "metadata": {
        "id": "gUXA3BeVRxod"
      },
      "source": [
        "There are 102 unique values in the target class the counts for which is displayed above. We will plot a bar graph to visualize the difference."
      ]
    },
    {
      "cell_type": "code",
      "execution_count": null,
      "metadata": {
        "scrolled": false,
        "id": "Z0XmFLV4Rxod",
        "outputId": "d5660c8d-8810-4369-faf7-1cbb00d600fd"
      },
      "outputs": [
        {
          "data": {
            "image/png": "[encoded data removed]",
            "text/plain": [
              "<Figure size 1440x504 with 1 Axes>"
            ]
          },
          "metadata": {
            "needs_background": "light"
          },
          "output_type": "display_data"
        }
      ],
      "source": [
        "plt.figure(figsize=(20,7))\n",
        "data[\"Chordlabel\"].value_counts().plot(kind=\"bar\")\n",
        "plt.show()"
      ]
    },
    {
      "cell_type": "markdown",
      "metadata": {
        "id": "nu43ffg0Rxoe"
      },
      "source": [
        "The difference of counts for each values in the target class is clearly visible from the graph."
      ]
    },
    {
      "cell_type": "code",
      "execution_count": null,
      "metadata": {
        "scrolled": true,
        "id": "4wjGPeV_Rxoe",
        "outputId": "c0948402-8111-4c8f-d35d-b12a0da97586"
      },
      "outputs": [
        {
          "name": "stdout",
          "output_type": "stream",
          "text": [
            "percentage of class  F_M is: 6.866725507502207\n",
            "percentage of class  C_M is: 8.614298323036188\n",
            "percentage of class  D_m is: 2.912621359223301\n",
            "percentage of class  BbM is: 5.507502206531332\n",
            "percentage of class  C_M7 is: 1.1650485436893203\n",
            "percentage of class  D_m7 is: 0.5825242718446602\n",
            "percentage of class  G_M is: 8.631950573698147\n",
            "percentage of class  A_m is: 4.554280670785525\n",
            "percentage of class  C_M4 is: 0.2824360105913504\n",
            "percentage of class  G_m is: 3.1597528684907323\n",
            "percentage of class  G_M7 is: 0.9179170344218888\n",
            "percentage of class  D_M is: 8.879082082965578\n",
            "percentage of class  F#d is: 0.2471315092674316\n",
            "percentage of class  AbM is: 0.6531332744924978\n",
            "percentage of class  C#d7 is: 0.264783759929391\n",
            "percentage of class  D_M7 is: 1.0238305383936452\n",
            "percentage of class  A_M is: 6.213592233009709\n",
            "percentage of class  EbM is: 2.5772285966460724\n",
            "percentage of class  F_M7 is: 0.6707855251544572\n",
            "percentage of class  C_m is: 2.5419240953221536\n",
            "percentage of class  A_M4 is: 0.2824360105913504\n",
            "percentage of class  F#m is: 2.524271844660194\n",
            "percentage of class  B_M is: 2.524271844660194\n",
            "percentage of class  E_M is: 5.207413945278023\n",
            "percentage of class  D#d is: 0.1235657546337158\n",
            "percentage of class  C#M is: 0.6884377758164165\n",
            "percentage of class  F#m7 is: 0.3353927625772286\n",
            "percentage of class  A#d is: 0.088261253309797\n",
            "percentage of class  B_m is: 3.83053839364519\n",
            "percentage of class  E_M7 is: 0.7590467784642542\n",
            "percentage of class  E_m is: 4.254192409532216\n",
            "percentage of class  F#M is: 1.5887025595763458\n",
            "percentage of class  F#M7 is: 0.6001765225066196\n",
            "percentage of class  B_M7 is: 0.8120035304501325\n",
            "percentage of class  A_m6 is: 0.176522506619594\n",
            "percentage of class  C#d is: 0.176522506619594\n",
            "percentage of class  A_m7 is: 0.1941747572815534\n",
            "percentage of class  A_d is: 0.088261253309797\n",
            "percentage of class  C_m7 is: 0.353045013239188\n",
            "percentage of class  G_m6 is: 0.0529567519858782\n",
            "percentage of class  D_M4 is: 0.2824360105913504\n",
            "percentage of class  G_m7 is: 0.3177405119152692\n",
            "percentage of class  E_m7 is: 0.4236540158870256\n",
            "percentage of class  E_m6 is: 0.2471315092674316\n",
            "percentage of class  A_M7 is: 0.9885260370697264\n",
            "percentage of class  C#m is: 0.4236540158870256\n",
            "percentage of class  C#M7 is: 0.1235657546337158\n",
            "percentage of class  A#d7 is: 0.0706090026478376\n",
            "percentage of class  EbM7 is: 0.0176522506619594\n",
            "percentage of class  B_m7 is: 0.3353927625772286\n",
            "percentage of class  E_M4 is: 0.2471315092674316\n",
            "percentage of class  C#m7 is: 0.1588702559576346\n",
            "percentage of class  F_M4 is: 0.2471315092674316\n",
            "percentage of class  D_m6 is: 0.2118270079435128\n",
            "percentage of class  G#d is: 0.1941747572815534\n",
            "percentage of class  G#d7 is: 0.1059135039717564\n",
            "percentage of class  A_m4 is: 0.0353045013239188\n",
            "percentage of class  D_M6 is: 0.0529567519858782\n",
            "percentage of class  F_d is: 0.0529567519858782\n",
            "percentage of class  B_m6 is: 0.0353045013239188\n",
            "percentage of class  B_M4 is: 0.0529567519858782\n",
            "percentage of class  C_m6 is: 0.3000882612533098\n",
            "percentage of class  F_m is: 0.7413945278022949\n",
            "percentage of class  G_M4 is: 0.1412180052956752\n",
            "percentage of class  F_m7 is: 0.1235657546337158\n",
            "percentage of class  C_d6 is: 0.0353045013239188\n",
            "percentage of class  F_m6 is: 0.0529567519858782\n",
            "percentage of class  G_M6 is: 0.0529567519858782\n",
            "percentage of class  A_M6 is: 0.0353045013239188\n",
            "percentage of class  F_M6 is: 0.0706090026478376\n",
            "percentage of class  F#M4 is: 0.2118270079435128\n",
            "percentage of class  B_d7 is: 0.1412180052956752\n",
            "percentage of class  D_d7 is: 0.0706090026478376\n",
            "percentage of class  E_d is: 0.1059135039717564\n",
            "percentage of class  Bbm is: 0.4589585172109444\n",
            "percentage of class  Bbm6 is: 0.1059135039717564\n",
            "percentage of class  DbM is: 0.37069726390114743\n",
            "percentage of class  C_d7 is: 0.0353045013239188\n",
            "percentage of class  F#d7 is: 0.0176522506619594\n",
            "percentage of class  Abd is: 0.0176522506619594\n",
            "percentage of class  Ebd is: 0.0176522506619594\n",
            "percentage of class  Dbd7 is: 0.0353045013239188\n",
            "percentage of class  Dbd is: 0.0353045013239188\n",
            "percentage of class  Bbd is: 0.088261253309797\n",
            "percentage of class  Dbm7 is: 0.0529567519858782\n",
            "percentage of class  Abm is: 0.0353045013239188\n",
            "percentage of class  DbM7 is: 0.0176522506619594\n",
            "percentage of class  Dbm is: 0.0706090026478376\n",
            "percentage of class  F#m6 is: 0.1235657546337158\n",
            "percentage of class  G#m is: 0.1059135039717564\n",
            "percentage of class  B_d is: 0.3000882612533098\n",
            "percentage of class  C_M6 is: 0.1059135039717564\n",
            "percentage of class  D#m is: 0.0353045013239188\n",
            "percentage of class  D#M is: 0.0353045013239188\n",
            "percentage of class  BbM7 is: 0.0529567519858782\n",
            "percentage of class  F_d7 is: 0.0176522506619594\n",
            "percentage of class  C#d6 is: 0.0353045013239188\n",
            "percentage of class  G_d is: 0.0529567519858782\n",
            "percentage of class  G#M is: 0.0176522506619594\n",
            "percentage of class  C#M4 is: 0.0353045013239188\n",
            "percentage of class  D#d6 is: 0.0176522506619594\n",
            "percentage of class  D#d7 is: 0.0706090026478376\n"
          ]
        }
      ],
      "source": [
        "#checking the percentage of data distribution for the target class\n",
        "\n",
        "for label in data[\"Chordlabel\"].unique():\n",
        "    class_count = len(data[data['Chordlabel']==label])\n",
        "    count_other = len(data[data['Chordlabel']!=label])\n",
        "\n",
        "    pct_of_count = class_count/(class_count+count_other)\n",
        "    print(\"percentage of class\",label,'is:' ,pct_of_count*100)"
      ]
    },
    {
      "cell_type": "markdown",
      "metadata": {
        "id": "reA1iwHZRxoe"
      },
      "source": [
        "Our classes are highly imbalanced, there are 102 classes and the highest percentage of data distribution is 8.8 %"
      ]
    },
    {
      "cell_type": "markdown",
      "metadata": {
        "id": "oo4BUIwpRxoe"
      },
      "source": [
        "As the dataset is highly imbalanced so it is required to balance the data for better modeling.\n",
        "We will perform SMOTE. WE are doing the balancing using SMOT(Synthetic Minority Oversampling Technique, or SMOTE ). \n",
        "We are balancing the dataset by increasing the size of rare samples.\n",
        "Rather than getting rid of abundant samples. "
      ]
    },
    {
      "cell_type": "markdown",
      "metadata": {
        "id": "pYcJUIBDRxof"
      },
      "source": [
        "Before applying SMOTE we will separate the chord label by its root chord and mode of chord and observer how many classes are present in each of them."
      ]
    },
    {
      "cell_type": "code",
      "execution_count": null,
      "metadata": {
        "id": "ep2aVMDbRxof"
      },
      "outputs": [],
      "source": [
        "data['Root'] = data['Chordlabel'].str[:3]\n",
        "data['Mode'] = data['Chordlabel'].str[3:]"
      ]
    },
    {
      "cell_type": "markdown",
      "metadata": {
        "id": "sEf1J1TNRxof"
      },
      "source": [
        "We have created the two additional columns derived from the Chordlabel column i.e 'Root' and 'Mode'"
      ]
    },
    {
      "cell_type": "code",
      "execution_count": null,
      "metadata": {
        "id": "nbve9EBNRxof"
      },
      "outputs": [],
      "source": [
        "# Dropping the Chordlabel column\n",
        "data=data.drop('Chordlabel',axis=1)"
      ]
    },
    {
      "cell_type": "code",
      "execution_count": null,
      "metadata": {
        "id": "TsLSJ6H8Rxof"
      },
      "outputs": [],
      "source": [
        "data.Root=data.Root.str.lstrip()"
      ]
    },
    {
      "cell_type": "code",
      "execution_count": null,
      "metadata": {
        "id": "C9zKicbbRxof",
        "outputId": "e99c6d0c-d2fb-4a58-aa5b-1679b1a0e4aa"
      },
      "outputs": [
        {
          "data": {
            "text/plain": [
              "D_    794\n",
              "C_    761\n",
              "G_    755\n",
              "A_    712\n",
              "E_    637\n",
              "F_    501\n",
              "B_    455\n",
              "Bb    352\n",
              "F#    320\n",
              "Eb    148\n",
              "C#    108\n",
              "Ab     40\n",
              "Db     33\n",
              "G#     24\n",
              "D#     16\n",
              "A#      9\n",
              "Name: Root, dtype: int64"
            ]
          },
          "execution_count": 19,
          "metadata": {},
          "output_type": "execute_result"
        }
      ],
      "source": [
        "data[\"Root\"].value_counts()"
      ]
    },
    {
      "cell_type": "code",
      "execution_count": null,
      "metadata": {
        "id": "R5Qu6lb0Rxog",
        "outputId": "572bafd0-4133-4836-f58e-ad99c7139a72"
      },
      "outputs": [
        {
          "data": {
            "text/plain": [
              "M     3307\n",
              "m     1453\n",
              "M7     405\n",
              "m7     163\n",
              "M4     101\n",
              "d       90\n",
              "m6      74\n",
              "d7      47\n",
              "M6      18\n",
              "d6       5\n",
              "m4       2\n",
              "Name: Mode, dtype: int64"
            ]
          },
          "execution_count": 20,
          "metadata": {},
          "output_type": "execute_result"
        }
      ],
      "source": [
        "data[\"Mode\"].value_counts()"
      ]
    },
    {
      "cell_type": "markdown",
      "metadata": {
        "id": "ZWbKxH54Rxog"
      },
      "source": [
        "Before applying SMOTE we will further do encoding of our dataset to convert our categorical data to numeric."
      ]
    },
    {
      "cell_type": "code",
      "execution_count": null,
      "metadata": {
        "id": "JqhLi15TRxog"
      },
      "outputs": [],
      "source": [
        "# converting the bass to numeric by analysing the pitch class index\n",
        "data['Bass'] = data['Bass'].replace(['E', 'F', 'D', 'A', 'Bb', 'C', 'G', 'B', 'F#', 'C#', 'Eb', 'D#','G#', 'A#', 'Ab',\n",
        "                                     'Db'], [5,6,3,10,11,1,8,12,7,2,4,4,9,11,9,2])"
      ]
    },
    {
      "cell_type": "code",
      "execution_count": null,
      "metadata": {
        "id": "VkPmzyrlRxog"
      },
      "outputs": [],
      "source": [
        "# converting the root chord to numeric by analysing the pitch class index\n",
        "data['Root']=data['Root'].replace(['C_', 'F_', 'D_', 'Bb', 'G_', 'A_', 'F#', 'Ab', 'C#', 'Eb', 'B_','E_', 'D#', \n",
        "                                   'A#', 'G#', 'Db'],\n",
        "                                  [ 1,6,3,11,8,10,7,9,2,4,12,5,4,11,9,2])\n"
      ]
    },
    {
      "cell_type": "code",
      "execution_count": null,
      "metadata": {
        "id": "JqItRdmzRxog",
        "outputId": "fbd8bff9-dbdb-4ed8-edce-149db2ddd6d6"
      },
      "outputs": [
        {
          "data": {
            "text/html": [
              "<div>\n",
              "<style scoped>\n",
              "    .dataframe tbody tr th:only-of-type {\n",
              "        vertical-align: middle;\n",
              "    }\n",
              "\n",
              "    .dataframe tbody tr th {\n",
              "        vertical-align: top;\n",
              "    }\n",
              "\n",
              "    .dataframe thead th {\n",
              "        text-align: right;\n",
              "    }\n",
              "</style>\n",
              "<table border=\"1\" class=\"dataframe\">\n",
              "  <thead>\n",
              "    <tr style=\"text-align: right;\">\n",
              "      <th></th>\n",
              "      <th>ChoralId</th>\n",
              "      <th>EventNo</th>\n",
              "      <th>C</th>\n",
              "      <th>C#/Db</th>\n",
              "      <th>D</th>\n",
              "      <th>D#/Eb</th>\n",
              "      <th>E</th>\n",
              "      <th>F</th>\n",
              "      <th>F#/Gb</th>\n",
              "      <th>G</th>\n",
              "      <th>G#/Ab</th>\n",
              "      <th>A</th>\n",
              "      <th>A#/Bb</th>\n",
              "      <th>B</th>\n",
              "      <th>Bass</th>\n",
              "      <th>Meter</th>\n",
              "      <th>Root</th>\n",
              "      <th>Mode</th>\n",
              "    </tr>\n",
              "  </thead>\n",
              "  <tbody>\n",
              "    <tr>\n",
              "      <th>0</th>\n",
              "      <td>000106b_</td>\n",
              "      <td>1</td>\n",
              "      <td>YES</td>\n",
              "      <td>NO</td>\n",
              "      <td>NO</td>\n",
              "      <td>NO</td>\n",
              "      <td>NO</td>\n",
              "      <td>YES</td>\n",
              "      <td>NO</td>\n",
              "      <td>NO</td>\n",
              "      <td>NO</td>\n",
              "      <td>YES</td>\n",
              "      <td>NO</td>\n",
              "      <td>NO</td>\n",
              "      <td>6</td>\n",
              "      <td>3</td>\n",
              "      <td>6</td>\n",
              "      <td>M</td>\n",
              "    </tr>\n",
              "    <tr>\n",
              "      <th>1</th>\n",
              "      <td>000106b_</td>\n",
              "      <td>2</td>\n",
              "      <td>YES</td>\n",
              "      <td>NO</td>\n",
              "      <td>NO</td>\n",
              "      <td>NO</td>\n",
              "      <td>YES</td>\n",
              "      <td>NO</td>\n",
              "      <td>NO</td>\n",
              "      <td>YES</td>\n",
              "      <td>NO</td>\n",
              "      <td>NO</td>\n",
              "      <td>NO</td>\n",
              "      <td>NO</td>\n",
              "      <td>5</td>\n",
              "      <td>5</td>\n",
              "      <td>1</td>\n",
              "      <td>M</td>\n",
              "    </tr>\n",
              "    <tr>\n",
              "      <th>2</th>\n",
              "      <td>000106b_</td>\n",
              "      <td>3</td>\n",
              "      <td>YES</td>\n",
              "      <td>NO</td>\n",
              "      <td>NO</td>\n",
              "      <td>NO</td>\n",
              "      <td>YES</td>\n",
              "      <td>NO</td>\n",
              "      <td>NO</td>\n",
              "      <td>YES</td>\n",
              "      <td>NO</td>\n",
              "      <td>NO</td>\n",
              "      <td>NO</td>\n",
              "      <td>NO</td>\n",
              "      <td>5</td>\n",
              "      <td>2</td>\n",
              "      <td>1</td>\n",
              "      <td>M</td>\n",
              "    </tr>\n",
              "    <tr>\n",
              "      <th>3</th>\n",
              "      <td>000106b_</td>\n",
              "      <td>4</td>\n",
              "      <td>YES</td>\n",
              "      <td>NO</td>\n",
              "      <td>NO</td>\n",
              "      <td>NO</td>\n",
              "      <td>NO</td>\n",
              "      <td>YES</td>\n",
              "      <td>NO</td>\n",
              "      <td>NO</td>\n",
              "      <td>NO</td>\n",
              "      <td>YES</td>\n",
              "      <td>NO</td>\n",
              "      <td>NO</td>\n",
              "      <td>6</td>\n",
              "      <td>3</td>\n",
              "      <td>6</td>\n",
              "      <td>M</td>\n",
              "    </tr>\n",
              "    <tr>\n",
              "      <th>4</th>\n",
              "      <td>000106b_</td>\n",
              "      <td>5</td>\n",
              "      <td>YES</td>\n",
              "      <td>NO</td>\n",
              "      <td>NO</td>\n",
              "      <td>NO</td>\n",
              "      <td>NO</td>\n",
              "      <td>YES</td>\n",
              "      <td>NO</td>\n",
              "      <td>NO</td>\n",
              "      <td>NO</td>\n",
              "      <td>YES</td>\n",
              "      <td>NO</td>\n",
              "      <td>NO</td>\n",
              "      <td>6</td>\n",
              "      <td>2</td>\n",
              "      <td>6</td>\n",
              "      <td>M</td>\n",
              "    </tr>\n",
              "  </tbody>\n",
              "</table>\n",
              "</div>"
            ],
            "text/plain": [
              "   ChoralId  EventNo    C C#/Db    D D#/Eb    E    F F#/Gb    G G#/Ab    A  \\\n",
              "0  000106b_        1  YES    NO   NO    NO   NO  YES    NO   NO    NO  YES   \n",
              "1  000106b_        2  YES    NO   NO    NO  YES   NO    NO  YES    NO   NO   \n",
              "2  000106b_        3  YES    NO   NO    NO  YES   NO    NO  YES    NO   NO   \n",
              "3  000106b_        4  YES    NO   NO    NO   NO  YES    NO   NO    NO  YES   \n",
              "4  000106b_        5  YES    NO   NO    NO   NO  YES    NO   NO    NO  YES   \n",
              "\n",
              "  A#/Bb    B  Bass  Meter  Root Mode  \n",
              "0    NO   NO     6      3     6    M  \n",
              "1    NO   NO     5      5     1    M  \n",
              "2    NO   NO     5      2     1    M  \n",
              "3    NO   NO     6      3     6    M  \n",
              "4    NO   NO     6      2     6    M  "
            ]
          },
          "execution_count": 23,
          "metadata": {},
          "output_type": "execute_result"
        }
      ],
      "source": [
        "data.head()"
      ]
    },
    {
      "cell_type": "code",
      "execution_count": null,
      "metadata": {
        "id": "TlL5tXiORxoh"
      },
      "outputs": [],
      "source": [
        "encode_data=data.copy()\n",
        "label_encoder = LabelEncoder()\n",
        "for col in encode_data.columns:\n",
        "    encode_data[col]= label_encoder.fit_transform(encode_data[col])"
      ]
    },
    {
      "cell_type": "code",
      "execution_count": null,
      "metadata": {
        "id": "LD8a5Q36Rxoh"
      },
      "outputs": [],
      "source": [
        "# separating root from other features to apply SMOTE on dataset\n",
        "target=encode_data['Root']\n",
        "feature=encode_data.drop(['Root'],axis=1)"
      ]
    },
    {
      "cell_type": "code",
      "execution_count": null,
      "metadata": {
        "id": "B7aUAs3uRxoh",
        "outputId": "ce6b532c-233d-4669-ab79-39b6fc43297d"
      },
      "outputs": [
        {
          "name": "stdout",
          "output_type": "stream",
          "text": [
            "Resample dataset shape Counter({5: 794, 0: 794, 2: 794, 10: 794, 7: 794, 9: 794, 6: 794, 8: 794, 1: 794, 3: 794, 11: 794, 4: 794})\n"
          ]
        }
      ],
      "source": [
        "# Apply the SMOTE technique to balance the dataset\n",
        "feature_bal,target_bal = SMOTE(k_neighbors=2).fit_resample(feature,target)\n",
        "# checking new resampled data\n",
        "print('Resample dataset shape', Counter(target_bal))"
      ]
    },
    {
      "cell_type": "code",
      "execution_count": null,
      "metadata": {
        "id": "vTROLnIIRxoh"
      },
      "outputs": [],
      "source": [
        "#Concatenate the feature dataset and Target to make the final dataset\n",
        "balanced_data=pd.concat([feature_bal,target_bal],axis=1)"
      ]
    },
    {
      "cell_type": "code",
      "execution_count": null,
      "metadata": {
        "id": "wsg5DkI_Rxoh",
        "outputId": "3ce10fb6-495e-4170-e3c9-c8d84f6e44fe"
      },
      "outputs": [
        {
          "data": {
            "text/html": [
              "<div>\n",
              "<style scoped>\n",
              "    .dataframe tbody tr th:only-of-type {\n",
              "        vertical-align: middle;\n",
              "    }\n",
              "\n",
              "    .dataframe tbody tr th {\n",
              "        vertical-align: top;\n",
              "    }\n",
              "\n",
              "    .dataframe thead th {\n",
              "        text-align: right;\n",
              "    }\n",
              "</style>\n",
              "<table border=\"1\" class=\"dataframe\">\n",
              "  <thead>\n",
              "    <tr style=\"text-align: right;\">\n",
              "      <th></th>\n",
              "      <th>ChoralId</th>\n",
              "      <th>EventNo</th>\n",
              "      <th>C</th>\n",
              "      <th>C#/Db</th>\n",
              "      <th>D</th>\n",
              "      <th>D#/Eb</th>\n",
              "      <th>E</th>\n",
              "      <th>F</th>\n",
              "      <th>F#/Gb</th>\n",
              "      <th>G</th>\n",
              "      <th>G#/Ab</th>\n",
              "      <th>A</th>\n",
              "      <th>A#/Bb</th>\n",
              "      <th>B</th>\n",
              "      <th>Bass</th>\n",
              "      <th>Meter</th>\n",
              "      <th>Mode</th>\n",
              "      <th>Root</th>\n",
              "    </tr>\n",
              "  </thead>\n",
              "  <tbody>\n",
              "    <tr>\n",
              "      <th>0</th>\n",
              "      <td>2</td>\n",
              "      <td>0</td>\n",
              "      <td>1</td>\n",
              "      <td>0</td>\n",
              "      <td>0</td>\n",
              "      <td>0</td>\n",
              "      <td>0</td>\n",
              "      <td>1</td>\n",
              "      <td>0</td>\n",
              "      <td>0</td>\n",
              "      <td>0</td>\n",
              "      <td>1</td>\n",
              "      <td>0</td>\n",
              "      <td>0</td>\n",
              "      <td>5</td>\n",
              "      <td>2</td>\n",
              "      <td>0</td>\n",
              "      <td>5</td>\n",
              "    </tr>\n",
              "    <tr>\n",
              "      <th>1</th>\n",
              "      <td>2</td>\n",
              "      <td>1</td>\n",
              "      <td>1</td>\n",
              "      <td>0</td>\n",
              "      <td>0</td>\n",
              "      <td>0</td>\n",
              "      <td>1</td>\n",
              "      <td>0</td>\n",
              "      <td>0</td>\n",
              "      <td>1</td>\n",
              "      <td>0</td>\n",
              "      <td>0</td>\n",
              "      <td>0</td>\n",
              "      <td>0</td>\n",
              "      <td>4</td>\n",
              "      <td>4</td>\n",
              "      <td>0</td>\n",
              "      <td>0</td>\n",
              "    </tr>\n",
              "  </tbody>\n",
              "</table>\n",
              "</div>"
            ],
            "text/plain": [
              "   ChoralId  EventNo  C  C#/Db  D  D#/Eb  E  F  F#/Gb  G  G#/Ab  A  A#/Bb  B  \\\n",
              "0         2        0  1      0  0      0  0  1      0  0      0  1      0  0   \n",
              "1         2        1  1      0  0      0  1  0      0  1      0  0      0  0   \n",
              "\n",
              "   Bass  Meter  Mode  Root  \n",
              "0     5      2     0     5  \n",
              "1     4      4     0     0  "
            ]
          },
          "execution_count": 28,
          "metadata": {},
          "output_type": "execute_result"
        }
      ],
      "source": [
        "#Print the balanced dataset\n",
        "balanced_data.head(2)"
      ]
    },
    {
      "cell_type": "markdown",
      "metadata": {
        "id": "HqcjYQ_mRxoh"
      },
      "source": [
        "#### Data Exploration"
      ]
    },
    {
      "cell_type": "markdown",
      "metadata": {
        "id": "hdeBZYs-Rxoi"
      },
      "source": [
        "As all our features are categorical, we will visualize the features using categorical plots."
      ]
    },
    {
      "cell_type": "code",
      "execution_count": null,
      "metadata": {
        "id": "rzaccjNZRxoi",
        "outputId": "6c364d2f-fb27-4735-9d0c-a9144ce19a19"
      },
      "outputs": [
        {
          "data": {
            "image/png": "[encoded data removed]",
            "text/plain": [
              "<Figure size 504x360 with 1 Axes>"
            ]
          },
          "metadata": {
            "needs_background": "light"
          },
          "output_type": "display_data"
        }
      ],
      "source": [
        "fig=plt.figure(figsize=(7,5))\n",
        "ax=sns.distplot(x=encode_data['ChoralId'])\n",
        "ax.set_title(\"ChoralId Distribution\",color='DarkRed')\n",
        "plt.show()"
      ]
    },
    {
      "cell_type": "code",
      "execution_count": null,
      "metadata": {
        "id": "0q5vxptlRxoi",
        "outputId": "59b34f9d-19f9-447d-a64f-6af2410efa3a"
      },
      "outputs": [
        {
          "data": {
            "image/png": "[encoded data removed]",
            "text/plain": [
              "<Figure size 504x360 with 1 Axes>"
            ]
          },
          "metadata": {
            "needs_background": "light"
          },
          "output_type": "display_data"
        }
      ],
      "source": [
        "fig=plt.figure(figsize=(7,5))\n",
        "ax=sns.distplot(x=encode_data['EventNo'])\n",
        "ax.set_title(\"EventNo Distribution\",color='DarkRed')\n",
        "plt.show()"
      ]
    },
    {
      "cell_type": "code",
      "execution_count": null,
      "metadata": {
        "scrolled": false,
        "id": "J7XCWosqRxoi",
        "outputId": "b6337924-b092-40b5-8fec-fc3ac6d2de2f"
      },
      "outputs": [
        {
          "data": {
            "image/png": "[encoded data removed]",
            "text/plain": [
              "<Figure size 1080x1080 with 16 Axes>"
            ]
          },
          "metadata": {
            "needs_background": "light"
          },
          "output_type": "display_data"
        }
      ],
      "source": [
        "#Visualizing distribution of all features\n",
        "def draw_count(dataframe, features, rows, cols):\n",
        "    fig=plt.figure(figsize=(15,15))\n",
        "    for i, feature in enumerate(features):\n",
        "        ax=fig.add_subplot(rows,cols,i+1)\n",
        "\n",
        "        sns.countplot(x=feature,data=dataframe)\n",
        "        ax.set_title(feature+\" Distribution\",color='DarkRed')\n",
        "        \n",
        "    fig.tight_layout()  \n",
        "    plt.show()\n",
        "draw_count(data,data.columns[2:],5,4)"
      ]
    },
    {
      "cell_type": "markdown",
      "metadata": {
        "id": "qFZmiw8_Rxoi"
      },
      "source": [
        "We have visualise the distribution of each features in the dataset using distribution plot and count plot. Features in our dataset are having multiple classes and also the classes counts are not equal."
      ]
    },
    {
      "cell_type": "markdown",
      "metadata": {
        "id": "c6ByL_eQRxoi"
      },
      "source": [
        "### Data Pre-Processing and Cleaning"
      ]
    },
    {
      "cell_type": "markdown",
      "metadata": {
        "id": "f5wbIx1jRxoj"
      },
      "source": [
        "We will pre-process the data and prepare it for training the model. \n",
        "We will start the preprocessing by cleaning our data. \n",
        "For this we will first check for null values in the data."
      ]
    },
    {
      "cell_type": "markdown",
      "metadata": {
        "id": "CC0dqZTsRxoj"
      },
      "source": [
        "#### Checking NULL values"
      ]
    },
    {
      "cell_type": "code",
      "execution_count": null,
      "metadata": {
        "scrolled": false,
        "id": "VK_099M6Rxoj",
        "outputId": "27c8dd50-02a8-4227-ff8e-34c0c4078140"
      },
      "outputs": [
        {
          "data": {
            "text/plain": [
              "ChoralId    0\n",
              "EventNo     0\n",
              "C           0\n",
              "C#/Db       0\n",
              "D           0\n",
              "D#/Eb       0\n",
              "E           0\n",
              "F           0\n",
              "F#/Gb       0\n",
              "G           0\n",
              "G#/Ab       0\n",
              "A           0\n",
              "A#/Bb       0\n",
              "B           0\n",
              "Bass        0\n",
              "Meter       0\n",
              "Root        0\n",
              "Mode        0\n",
              "dtype: int64"
            ]
          },
          "execution_count": 32,
          "metadata": {},
          "output_type": "execute_result"
        }
      ],
      "source": [
        "data.isnull().sum()"
      ]
    },
    {
      "cell_type": "markdown",
      "metadata": {
        "id": "UoBYt5S2Rxoj"
      },
      "source": [
        "We can see that there is no null value present in our data."
      ]
    },
    {
      "cell_type": "code",
      "execution_count": null,
      "metadata": {
        "id": "ewFHGW8nRxoj",
        "outputId": "b053a7db-6db0-426d-9bd3-2a57d65fe217"
      },
      "outputs": [
        {
          "data": {
            "text/plain": [
              "array(['000106b_', '000206b_', '000306b_', '000408b_', '000507b_',\n",
              "       '000606b_', '000707b_', '000907b_', '001007b_', '001106b_',\n",
              "       '001207b_', '001306b_', '001606b_', '001707b_', '001805b_',\n",
              "       '001907ch', '002406bs', '002506b_', '002806b_', '    002908ch',\n",
              "       '002908ch', '  003006b_', '003006b_', '003109b_', '003206b_',\n",
              "       '003306b_', '003608b2', '003806b_', '003907b_', '003907bv',\n",
              "       '004006b_', '004008b_', '005708b_', '012006b_', '012106b_',\n",
              "       '012206b_', '012306b_', '012406b_', '012506b_', '012606b_',\n",
              "       '012606bv', '012705b_', '012805b_', '013506b_', '013705ch',\n",
              "       '013906b_', '014007b_', '014403b_', '014406b_', '014500ba',\n",
              "       '014505b_', '014505bv', '014608b_', '014806b_', '014806bv',\n",
              "       '015105b_', '015301b_', '015305b_', '015309b_', '015403b_',\n",
              "       '015408b_', '015505b_'], dtype=object)"
            ]
          },
          "execution_count": 33,
          "metadata": {},
          "output_type": "execute_result"
        }
      ],
      "source": [
        "data.ChoralId.unique()"
      ]
    },
    {
      "cell_type": "code",
      "execution_count": null,
      "metadata": {
        "id": "5V5fL6kYRxoj",
        "outputId": "b171ff5a-d58c-4149-f8d6-f44dfd530283"
      },
      "outputs": [
        {
          "data": {
            "text/plain": [
              "array([  1,   2,   3,   4,   5,   6,   7,   8,   9,  10,  11,  12,  13,\n",
              "        14,  15,  16,  17,  18,  19,  20,  21,  22,  23,  24,  25,  26,\n",
              "        27,  28,  29,  30,  31,  32,  33,  34,  35,  36,  37,  38,  39,\n",
              "        40,  41,  42,  43,  44,  45,  46,  47,  48,  49,  50,  51,  52,\n",
              "        53,  54,  55,  56,  57,  58,  59,  60,  61,  62,  63,  64,  65,\n",
              "        66,  67,  68,  69,  70,  71,  72,  73,  74,  75,  76,  77,  78,\n",
              "        79,  80,  81,  82,  83,  84,  85,  86,  87,  88,  89,  90,  91,\n",
              "        92,  93,  94,  95,  96,  97,  98,  99, 100, 101, 102, 103, 104,\n",
              "       105, 106, 107, 108, 109, 110, 111, 112, 113, 114, 115, 116, 117,\n",
              "       118, 119, 120, 121, 122, 123, 124, 125, 126, 127, 128, 129, 130,\n",
              "       131, 132, 133, 134, 135, 136, 137, 138, 139, 140, 141, 142, 143,\n",
              "       144, 145, 146, 147, 148, 149, 150, 151, 152, 153, 154, 155, 156,\n",
              "       157, 158, 159, 160, 161, 162, 163, 164, 165, 166, 167, 168, 169,\n",
              "       170, 171, 172, 173, 174, 175, 176, 177, 178, 179, 180, 181, 182,\n",
              "       183, 184, 185, 186, 187, 188, 189, 190, 191, 192, 193, 194, 195,\n",
              "       196, 197, 198, 199, 200, 201, 202, 203, 204, 205, 206, 207],\n",
              "      dtype=int64)"
            ]
          },
          "execution_count": 34,
          "metadata": {},
          "output_type": "execute_result"
        }
      ],
      "source": [
        "data.EventNo.unique()"
      ]
    },
    {
      "cell_type": "code",
      "execution_count": null,
      "metadata": {
        "id": "tOpj09ALRxoj",
        "outputId": "2c6f5c63-d480-4ec1-c584-779b2490b1af"
      },
      "outputs": [
        {
          "data": {
            "text/plain": [
              "array([ 6,  5,  3, 10, 11,  1,  8, 12,  7,  2,  4,  9], dtype=int64)"
            ]
          },
          "execution_count": 35,
          "metadata": {},
          "output_type": "execute_result"
        }
      ],
      "source": [
        "data.Bass.unique()"
      ]
    },
    {
      "cell_type": "markdown",
      "metadata": {
        "id": "YXXhFojWRxok"
      },
      "source": [
        "We can see that there are no inconsistencies in our dataset\n"
      ]
    },
    {
      "cell_type": "markdown",
      "metadata": {
        "id": "BwBLCwiFRxok"
      },
      "source": [
        "### Feature Engineering "
      ]
    },
    {
      "cell_type": "markdown",
      "metadata": {
        "id": "_imCzC-RRxok"
      },
      "source": [
        "We will reset the index and check for most useful features in our dataset"
      ]
    },
    {
      "cell_type": "code",
      "execution_count": null,
      "metadata": {
        "scrolled": true,
        "id": "g5a_ANq8Rxok",
        "outputId": "a6545e67-e7a8-42e8-c868-241a0e9236dd"
      },
      "outputs": [
        {
          "data": {
            "text/html": [
              "<div>\n",
              "<style scoped>\n",
              "    .dataframe tbody tr th:only-of-type {\n",
              "        vertical-align: middle;\n",
              "    }\n",
              "\n",
              "    .dataframe tbody tr th {\n",
              "        vertical-align: top;\n",
              "    }\n",
              "\n",
              "    .dataframe thead th {\n",
              "        text-align: right;\n",
              "    }\n",
              "</style>\n",
              "<table border=\"1\" class=\"dataframe\">\n",
              "  <thead>\n",
              "    <tr style=\"text-align: right;\">\n",
              "      <th></th>\n",
              "      <th>ChoralId</th>\n",
              "      <th>EventNo</th>\n",
              "      <th>C</th>\n",
              "      <th>C#/Db</th>\n",
              "      <th>D</th>\n",
              "      <th>D#/Eb</th>\n",
              "      <th>E</th>\n",
              "      <th>F</th>\n",
              "      <th>F#/Gb</th>\n",
              "      <th>G</th>\n",
              "      <th>G#/Ab</th>\n",
              "      <th>A</th>\n",
              "      <th>A#/Bb</th>\n",
              "      <th>B</th>\n",
              "      <th>Bass</th>\n",
              "      <th>Meter</th>\n",
              "      <th>Mode</th>\n",
              "      <th>Root</th>\n",
              "    </tr>\n",
              "  </thead>\n",
              "  <tbody>\n",
              "    <tr>\n",
              "      <th>0</th>\n",
              "      <td>2</td>\n",
              "      <td>0</td>\n",
              "      <td>1</td>\n",
              "      <td>0</td>\n",
              "      <td>0</td>\n",
              "      <td>0</td>\n",
              "      <td>0</td>\n",
              "      <td>1</td>\n",
              "      <td>0</td>\n",
              "      <td>0</td>\n",
              "      <td>0</td>\n",
              "      <td>1</td>\n",
              "      <td>0</td>\n",
              "      <td>0</td>\n",
              "      <td>5</td>\n",
              "      <td>2</td>\n",
              "      <td>0</td>\n",
              "      <td>5</td>\n",
              "    </tr>\n",
              "    <tr>\n",
              "      <th>1</th>\n",
              "      <td>2</td>\n",
              "      <td>1</td>\n",
              "      <td>1</td>\n",
              "      <td>0</td>\n",
              "      <td>0</td>\n",
              "      <td>0</td>\n",
              "      <td>1</td>\n",
              "      <td>0</td>\n",
              "      <td>0</td>\n",
              "      <td>1</td>\n",
              "      <td>0</td>\n",
              "      <td>0</td>\n",
              "      <td>0</td>\n",
              "      <td>0</td>\n",
              "      <td>4</td>\n",
              "      <td>4</td>\n",
              "      <td>0</td>\n",
              "      <td>0</td>\n",
              "    </tr>\n",
              "    <tr>\n",
              "      <th>2</th>\n",
              "      <td>2</td>\n",
              "      <td>2</td>\n",
              "      <td>1</td>\n",
              "      <td>0</td>\n",
              "      <td>0</td>\n",
              "      <td>0</td>\n",
              "      <td>1</td>\n",
              "      <td>0</td>\n",
              "      <td>0</td>\n",
              "      <td>1</td>\n",
              "      <td>0</td>\n",
              "      <td>0</td>\n",
              "      <td>0</td>\n",
              "      <td>0</td>\n",
              "      <td>4</td>\n",
              "      <td>1</td>\n",
              "      <td>0</td>\n",
              "      <td>0</td>\n",
              "    </tr>\n",
              "    <tr>\n",
              "      <th>3</th>\n",
              "      <td>2</td>\n",
              "      <td>3</td>\n",
              "      <td>1</td>\n",
              "      <td>0</td>\n",
              "      <td>0</td>\n",
              "      <td>0</td>\n",
              "      <td>0</td>\n",
              "      <td>1</td>\n",
              "      <td>0</td>\n",
              "      <td>0</td>\n",
              "      <td>0</td>\n",
              "      <td>1</td>\n",
              "      <td>0</td>\n",
              "      <td>0</td>\n",
              "      <td>5</td>\n",
              "      <td>2</td>\n",
              "      <td>0</td>\n",
              "      <td>5</td>\n",
              "    </tr>\n",
              "    <tr>\n",
              "      <th>4</th>\n",
              "      <td>2</td>\n",
              "      <td>4</td>\n",
              "      <td>1</td>\n",
              "      <td>0</td>\n",
              "      <td>0</td>\n",
              "      <td>0</td>\n",
              "      <td>0</td>\n",
              "      <td>1</td>\n",
              "      <td>0</td>\n",
              "      <td>0</td>\n",
              "      <td>0</td>\n",
              "      <td>1</td>\n",
              "      <td>0</td>\n",
              "      <td>0</td>\n",
              "      <td>5</td>\n",
              "      <td>1</td>\n",
              "      <td>0</td>\n",
              "      <td>5</td>\n",
              "    </tr>\n",
              "  </tbody>\n",
              "</table>\n",
              "</div>"
            ],
            "text/plain": [
              "   ChoralId  EventNo  C  C#/Db  D  D#/Eb  E  F  F#/Gb  G  G#/Ab  A  A#/Bb  B  \\\n",
              "0         2        0  1      0  0      0  0  1      0  0      0  1      0  0   \n",
              "1         2        1  1      0  0      0  1  0      0  1      0  0      0  0   \n",
              "2         2        2  1      0  0      0  1  0      0  1      0  0      0  0   \n",
              "3         2        3  1      0  0      0  0  1      0  0      0  1      0  0   \n",
              "4         2        4  1      0  0      0  0  1      0  0      0  1      0  0   \n",
              "\n",
              "   Bass  Meter  Mode  Root  \n",
              "0     5      2     0     5  \n",
              "1     4      4     0     0  \n",
              "2     4      1     0     0  \n",
              "3     5      2     0     5  \n",
              "4     5      1     0     5  "
            ]
          },
          "execution_count": 36,
          "metadata": {},
          "output_type": "execute_result"
        }
      ],
      "source": [
        "#resetting the index\n",
        "balanced_data.reset_index(drop=True, inplace=True)\n",
        "balanced_data.head()"
      ]
    },
    {
      "cell_type": "markdown",
      "metadata": {
        "id": "3RhYpc4wRxok"
      },
      "source": [
        "Now we will identify the top 10 features for the dataset showing the importance with the class variable using SelectKBest technique"
      ]
    },
    {
      "cell_type": "code",
      "execution_count": null,
      "metadata": {
        "id": "6NzU0SUQRxok",
        "outputId": "69c5bd03-cba0-4fbe-ed2d-19e99188dabc"
      },
      "outputs": [
        {
          "name": "stdout",
          "output_type": "stream",
          "text": [
            "    Specs        Score\n",
            "16   Root  5958.822423\n",
            "14   Bass  5763.175124\n",
            "3   C#/Db  4498.069815\n",
            "8   F#/Gb  4365.548775\n",
            "7       F  4004.225116\n",
            "12  A#/Bb  3981.300971\n",
            "5   D#/Eb  3829.570038\n",
            "10  G#/Ab  3742.175221\n",
            "2       C  3723.604651\n",
            "6       E  3674.621993\n"
          ]
        }
      ],
      "source": [
        "Y=balanced_data.Root\n",
        "X=balanced_data.drop('Root',axis=1)\n",
        "bestfeatures = SelectKBest(score_func=chi2, k=10)\n",
        "fit = bestfeatures.fit(X,Y)\n",
        "dfscores = pd.DataFrame(fit.scores_)\n",
        "dfcolumns = pd.DataFrame(encode_data.columns)\n",
        "#concat two dataframes for better visualization \n",
        "featureScores = pd.concat([dfcolumns,dfscores],axis=1)\n",
        "#naming the dataframe columns\n",
        "featureScores.columns = ['Specs','Score'] \n",
        "bestfeature_columns = featureScores.nlargest(10,'Score')\n",
        "#print 10 best features\n",
        "print(bestfeature_columns) "
      ]
    },
    {
      "cell_type": "markdown",
      "metadata": {
        "id": "1qb3r5J-Rxok"
      },
      "source": [
        "#### Normalization of data"
      ]
    },
    {
      "cell_type": "markdown",
      "metadata": {
        "id": "eY0AlCsqRxol"
      },
      "source": [
        "Data normalization is the process of rescaling one or more attributes to the range of 0 to 1. As our dataset contains  categorical data we will do a mix max normalization by finding the min and the max values for each column."
      ]
    },
    {
      "cell_type": "code",
      "execution_count": null,
      "metadata": {
        "id": "d1fB-v9xRxol"
      },
      "outputs": [],
      "source": [
        "target=balanced_data[['Mode','Root']]\n",
        "feature=balanced_data.drop(['Mode','Root'],axis=1)"
      ]
    },
    {
      "cell_type": "code",
      "execution_count": null,
      "metadata": {
        "id": "NWtI_K_iRxol"
      },
      "outputs": [],
      "source": [
        "norm_data=(feature-feature.min())/(feature.max()-feature.min())"
      ]
    },
    {
      "cell_type": "code",
      "execution_count": null,
      "metadata": {
        "id": "Gd_IeowORxol",
        "outputId": "a00983cc-f81b-47b7-def9-7f55c2f67b9c"
      },
      "outputs": [
        {
          "data": {
            "text/html": [
              "<div>\n",
              "<style scoped>\n",
              "    .dataframe tbody tr th:only-of-type {\n",
              "        vertical-align: middle;\n",
              "    }\n",
              "\n",
              "    .dataframe tbody tr th {\n",
              "        vertical-align: top;\n",
              "    }\n",
              "\n",
              "    .dataframe thead th {\n",
              "        text-align: right;\n",
              "    }\n",
              "</style>\n",
              "<table border=\"1\" class=\"dataframe\">\n",
              "  <thead>\n",
              "    <tr style=\"text-align: right;\">\n",
              "      <th></th>\n",
              "      <th>ChoralId</th>\n",
              "      <th>EventNo</th>\n",
              "      <th>C</th>\n",
              "      <th>C#/Db</th>\n",
              "      <th>D</th>\n",
              "      <th>D#/Eb</th>\n",
              "      <th>E</th>\n",
              "      <th>F</th>\n",
              "      <th>F#/Gb</th>\n",
              "      <th>G</th>\n",
              "      <th>G#/Ab</th>\n",
              "      <th>A</th>\n",
              "      <th>A#/Bb</th>\n",
              "      <th>B</th>\n",
              "      <th>Bass</th>\n",
              "      <th>Meter</th>\n",
              "    </tr>\n",
              "  </thead>\n",
              "  <tbody>\n",
              "    <tr>\n",
              "      <th>count</th>\n",
              "      <td>9528.000000</td>\n",
              "      <td>9528.000000</td>\n",
              "      <td>9528.000000</td>\n",
              "      <td>9528.00000</td>\n",
              "      <td>9528.000000</td>\n",
              "      <td>9528.000000</td>\n",
              "      <td>9528.000000</td>\n",
              "      <td>9528.000000</td>\n",
              "      <td>9528.000000</td>\n",
              "      <td>9528.000000</td>\n",
              "      <td>9528.000000</td>\n",
              "      <td>9528.000000</td>\n",
              "      <td>9528.000000</td>\n",
              "      <td>9528.000000</td>\n",
              "      <td>9528.000000</td>\n",
              "      <td>9528.000000</td>\n",
              "    </tr>\n",
              "    <tr>\n",
              "      <th>mean</th>\n",
              "      <td>0.514620</td>\n",
              "      <td>0.254514</td>\n",
              "      <td>0.257242</td>\n",
              "      <td>0.20445</td>\n",
              "      <td>0.305835</td>\n",
              "      <td>0.194060</td>\n",
              "      <td>0.274874</td>\n",
              "      <td>0.225651</td>\n",
              "      <td>0.218409</td>\n",
              "      <td>0.292086</td>\n",
              "      <td>0.177897</td>\n",
              "      <td>0.301322</td>\n",
              "      <td>0.216205</td>\n",
              "      <td>0.258081</td>\n",
              "      <td>0.489800</td>\n",
              "      <td>0.492994</td>\n",
              "    </tr>\n",
              "    <tr>\n",
              "      <th>std</th>\n",
              "      <td>0.275169</td>\n",
              "      <td>0.176029</td>\n",
              "      <td>0.437137</td>\n",
              "      <td>0.40332</td>\n",
              "      <td>0.460785</td>\n",
              "      <td>0.395496</td>\n",
              "      <td>0.446474</td>\n",
              "      <td>0.418032</td>\n",
              "      <td>0.413188</td>\n",
              "      <td>0.454746</td>\n",
              "      <td>0.382446</td>\n",
              "      <td>0.458857</td>\n",
              "      <td>0.411677</td>\n",
              "      <td>0.437602</td>\n",
              "      <td>0.301981</td>\n",
              "      <td>0.255304</td>\n",
              "    </tr>\n",
              "    <tr>\n",
              "      <th>min</th>\n",
              "      <td>0.000000</td>\n",
              "      <td>0.000000</td>\n",
              "      <td>0.000000</td>\n",
              "      <td>0.00000</td>\n",
              "      <td>0.000000</td>\n",
              "      <td>0.000000</td>\n",
              "      <td>0.000000</td>\n",
              "      <td>0.000000</td>\n",
              "      <td>0.000000</td>\n",
              "      <td>0.000000</td>\n",
              "      <td>0.000000</td>\n",
              "      <td>0.000000</td>\n",
              "      <td>0.000000</td>\n",
              "      <td>0.000000</td>\n",
              "      <td>0.000000</td>\n",
              "      <td>0.000000</td>\n",
              "    </tr>\n",
              "    <tr>\n",
              "      <th>25%</th>\n",
              "      <td>0.262295</td>\n",
              "      <td>0.116505</td>\n",
              "      <td>0.000000</td>\n",
              "      <td>0.00000</td>\n",
              "      <td>0.000000</td>\n",
              "      <td>0.000000</td>\n",
              "      <td>0.000000</td>\n",
              "      <td>0.000000</td>\n",
              "      <td>0.000000</td>\n",
              "      <td>0.000000</td>\n",
              "      <td>0.000000</td>\n",
              "      <td>0.000000</td>\n",
              "      <td>0.000000</td>\n",
              "      <td>0.000000</td>\n",
              "      <td>0.272727</td>\n",
              "      <td>0.250000</td>\n",
              "    </tr>\n",
              "    <tr>\n",
              "      <th>50%</th>\n",
              "      <td>0.508197</td>\n",
              "      <td>0.228155</td>\n",
              "      <td>0.000000</td>\n",
              "      <td>0.00000</td>\n",
              "      <td>0.000000</td>\n",
              "      <td>0.000000</td>\n",
              "      <td>0.000000</td>\n",
              "      <td>0.000000</td>\n",
              "      <td>0.000000</td>\n",
              "      <td>0.000000</td>\n",
              "      <td>0.000000</td>\n",
              "      <td>0.000000</td>\n",
              "      <td>0.000000</td>\n",
              "      <td>0.000000</td>\n",
              "      <td>0.454545</td>\n",
              "      <td>0.500000</td>\n",
              "    </tr>\n",
              "    <tr>\n",
              "      <th>75%</th>\n",
              "      <td>0.754098</td>\n",
              "      <td>0.364078</td>\n",
              "      <td>1.000000</td>\n",
              "      <td>0.00000</td>\n",
              "      <td>1.000000</td>\n",
              "      <td>0.000000</td>\n",
              "      <td>1.000000</td>\n",
              "      <td>0.000000</td>\n",
              "      <td>0.000000</td>\n",
              "      <td>1.000000</td>\n",
              "      <td>0.000000</td>\n",
              "      <td>1.000000</td>\n",
              "      <td>0.000000</td>\n",
              "      <td>1.000000</td>\n",
              "      <td>0.727273</td>\n",
              "      <td>0.750000</td>\n",
              "    </tr>\n",
              "    <tr>\n",
              "      <th>max</th>\n",
              "      <td>1.000000</td>\n",
              "      <td>1.000000</td>\n",
              "      <td>1.000000</td>\n",
              "      <td>1.00000</td>\n",
              "      <td>1.000000</td>\n",
              "      <td>1.000000</td>\n",
              "      <td>1.000000</td>\n",
              "      <td>1.000000</td>\n",
              "      <td>1.000000</td>\n",
              "      <td>1.000000</td>\n",
              "      <td>1.000000</td>\n",
              "      <td>1.000000</td>\n",
              "      <td>1.000000</td>\n",
              "      <td>1.000000</td>\n",
              "      <td>1.000000</td>\n",
              "      <td>1.000000</td>\n",
              "    </tr>\n",
              "  </tbody>\n",
              "</table>\n",
              "</div>"
            ],
            "text/plain": [
              "          ChoralId      EventNo            C       C#/Db            D  \\\n",
              "count  9528.000000  9528.000000  9528.000000  9528.00000  9528.000000   \n",
              "mean      0.514620     0.254514     0.257242     0.20445     0.305835   \n",
              "std       0.275169     0.176029     0.437137     0.40332     0.460785   \n",
              "min       0.000000     0.000000     0.000000     0.00000     0.000000   \n",
              "25%       0.262295     0.116505     0.000000     0.00000     0.000000   \n",
              "50%       0.508197     0.228155     0.000000     0.00000     0.000000   \n",
              "75%       0.754098     0.364078     1.000000     0.00000     1.000000   \n",
              "max       1.000000     1.000000     1.000000     1.00000     1.000000   \n",
              "\n",
              "             D#/Eb            E            F        F#/Gb            G  \\\n",
              "count  9528.000000  9528.000000  9528.000000  9528.000000  9528.000000   \n",
              "mean      0.194060     0.274874     0.225651     0.218409     0.292086   \n",
              "std       0.395496     0.446474     0.418032     0.413188     0.454746   \n",
              "min       0.000000     0.000000     0.000000     0.000000     0.000000   \n",
              "25%       0.000000     0.000000     0.000000     0.000000     0.000000   \n",
              "50%       0.000000     0.000000     0.000000     0.000000     0.000000   \n",
              "75%       0.000000     1.000000     0.000000     0.000000     1.000000   \n",
              "max       1.000000     1.000000     1.000000     1.000000     1.000000   \n",
              "\n",
              "             G#/Ab            A        A#/Bb            B         Bass  \\\n",
              "count  9528.000000  9528.000000  9528.000000  9528.000000  9528.000000   \n",
              "mean      0.177897     0.301322     0.216205     0.258081     0.489800   \n",
              "std       0.382446     0.458857     0.411677     0.437602     0.301981   \n",
              "min       0.000000     0.000000     0.000000     0.000000     0.000000   \n",
              "25%       0.000000     0.000000     0.000000     0.000000     0.272727   \n",
              "50%       0.000000     0.000000     0.000000     0.000000     0.454545   \n",
              "75%       0.000000     1.000000     0.000000     1.000000     0.727273   \n",
              "max       1.000000     1.000000     1.000000     1.000000     1.000000   \n",
              "\n",
              "             Meter  \n",
              "count  9528.000000  \n",
              "mean      0.492994  \n",
              "std       0.255304  \n",
              "min       0.000000  \n",
              "25%       0.250000  \n",
              "50%       0.500000  \n",
              "75%       0.750000  \n",
              "max       1.000000  "
            ]
          },
          "execution_count": 40,
          "metadata": {},
          "output_type": "execute_result"
        }
      ],
      "source": [
        "#view the statistical information about the normalized data\n",
        "norm_data.describe()"
      ]
    },
    {
      "cell_type": "markdown",
      "metadata": {
        "id": "pzGasC19Rxol"
      },
      "source": [
        "All the features are now normalised and on the same scale . "
      ]
    },
    {
      "cell_type": "markdown",
      "metadata": {
        "id": "DoFwH48ARxol"
      },
      "source": [
        "#### Correlational Analysis "
      ]
    },
    {
      "cell_type": "markdown",
      "metadata": {
        "id": "kOV7TcJnRxol"
      },
      "source": [
        "We will plot a heatmap to observe the correlation among data. Befor that we will perform chi-quare analysis as the dataset is categorical."
      ]
    },
    {
      "cell_type": "code",
      "execution_count": null,
      "metadata": {
        "id": "245kzszpRxom"
      },
      "outputs": [],
      "source": [
        "#as our variables are categorical we will use chi square test to generate correlation matrix\n",
        "\n",
        "factors_paired = [(i,j) for i in balanced_data.columns.values for j in balanced_data.columns.values] \n",
        "\n",
        "chiarray, p_values =[], []\n",
        "\n",
        "for f in factors_paired:\n",
        "    if f[0] != f[1]:\n",
        "        chitest = chi2_contingency(pd.crosstab(balanced_data[f[0]], balanced_data[f[1]]))   \n",
        "        chiarray.append(chitest[0])\n",
        "        p_values.append(chitest[1])\n",
        "    else:      \n",
        "        chiarray.append(0)\n",
        "        p_values.append(0)\n",
        "\n",
        "chiarray = np.array(chiarray).reshape((18,18))\n"
      ]
    },
    {
      "cell_type": "markdown",
      "metadata": {
        "id": "ik-rKPgGRxom"
      },
      "source": [
        "The above pairwise data shows we have highly correlated features in our dataset. We will plot a heatmap to visualize the correlation in the dataset.\n"
      ]
    },
    {
      "cell_type": "code",
      "execution_count": null,
      "metadata": {
        "id": "Ay3YS-QbRxom",
        "outputId": "11c81d77-fb2c-4270-f8f9-d9823b45e608"
      },
      "outputs": [
        {
          "data": {
            "image/png": "[encoded data removed]",
            "text/plain": [
              "<Figure size 864x576 with 2 Axes>"
            ]
          },
          "metadata": {
            "needs_background": "light"
          },
          "output_type": "display_data"
        }
      ],
      "source": [
        "#correlation matrix heatmap of each attrubute\n",
        "plt.rcParams[\"figure.figsize\"]=12,8\n",
        "ax=sns.heatmap(chiarray,annot=False,fmt=\".0%\",linewidth=.5,linecolor='gray',cmap=\"RdPu\")\n",
        "ax.set_xticklabels(labels=balanced_data.columns, rotation=30)\n",
        "ax.set_yticklabels(labels=balanced_data.columns, rotation=0)\n",
        "cbar = ax.collections[0].colorbar\n",
        "cbar.set_ticklabels(['0%', '20%', '40%','60%', '80%','100%'])\n",
        "plt.show()"
      ]
    },
    {
      "cell_type": "markdown",
      "metadata": {
        "id": "oEaFoSVpRxom"
      },
      "source": [
        "ChoralId is highly correlated with Chord Root and Event Number."
      ]
    },
    {
      "cell_type": "markdown",
      "metadata": {
        "id": "3whNYFTTRxom"
      },
      "source": [
        "Root is highly correlated with ChoralId and Bass"
      ]
    },
    {
      "cell_type": "markdown",
      "metadata": {
        "id": "cmrRCdEIRxom"
      },
      "source": [
        "### Data Preparation "
      ]
    },
    {
      "cell_type": "markdown",
      "metadata": {
        "id": "u1IlsoB9Rxom"
      },
      "source": [
        "Selection of training and testing set is done to check our model’s performance on unseen data usually the accuracy which we print for our model is derived on validation set only. We used sklearn’s train_test_split() function to split our data frame to training and testing set."
      ]
    },
    {
      "cell_type": "code",
      "execution_count": null,
      "metadata": {
        "id": "y7N3jvaMRxon"
      },
      "outputs": [],
      "source": [
        "X=feature\n",
        "Y=target"
      ]
    },
    {
      "cell_type": "markdown",
      "metadata": {
        "id": "CEY-RvoHRxon"
      },
      "source": [
        "#### Case 1 : Train = 80 % Test = 20% [ x_train1,y_train1] = 80% ; [ x_test1,y_test1] = 20% "
      ]
    },
    {
      "cell_type": "code",
      "execution_count": null,
      "metadata": {
        "id": "0nqKJbkIRxon"
      },
      "outputs": [],
      "source": [
        "x_train1, x_test1, y_train1, y_test1 = train_test_split(X, Y, test_size=0.2, random_state=42)"
      ]
    },
    {
      "cell_type": "markdown",
      "metadata": {
        "id": "wPAihR6MRxon"
      },
      "source": [
        "#### Case 2 : Train = 10 % Test = 90% [ x_train2,y_train2] = 10% ; [ x_test2,y_test2] = 90% "
      ]
    },
    {
      "cell_type": "code",
      "execution_count": null,
      "metadata": {
        "id": "Xi3uBd9eRxon"
      },
      "outputs": [],
      "source": [
        "x_train2, x_test2, y_train2, y_test2 = train_test_split(X, Y, test_size=0.9, random_state=42)"
      ]
    },
    {
      "cell_type": "markdown",
      "metadata": {
        "id": "0r1xWHodRxon"
      },
      "source": [
        "#### Case 3 : Train = 50 % Test = 50% [ x_train3,y_train3] = 50% ; [ x_test3,y_test3] = 50% "
      ]
    },
    {
      "cell_type": "code",
      "execution_count": null,
      "metadata": {
        "id": "QFusV9ThRxon"
      },
      "outputs": [],
      "source": [
        "x_train3, x_test3, y_train3, y_test3 = train_test_split(X, Y, test_size=0.5, random_state=42)"
      ]
    },
    {
      "cell_type": "markdown",
      "metadata": {
        "id": "sEigMkYuRxoo"
      },
      "source": [
        "<h2>PART B</h2>"
      ]
    },
    {
      "cell_type": "markdown",
      "metadata": {
        "id": "lk5Ll4qaRxoo"
      },
      "source": [
        "### Model Building "
      ]
    },
    {
      "cell_type": "markdown",
      "metadata": {
        "id": "oPoZsGrWRxoo"
      },
      "source": [
        "### Classification of Root and Mode using ensemble methods"
      ]
    },
    {
      "cell_type": "code",
      "execution_count": null,
      "metadata": {
        "id": "NSXyKsr9Rxoo"
      },
      "outputs": [],
      "source": [
        "# Voting Ensemble for Classification\n",
        "from sklearn.multioutput import ClassifierChain\n",
        "from sklearn.ensemble import BaggingClassifier\n",
        "from sklearn.tree import DecisionTreeClassifier\n",
        "from xgboost import XGBClassifier\n",
        "from sklearn.neighbors import KNeighborsClassifier\n",
        "from sklearn.ensemble import RandomForestClassifier\n",
        "from sklearn.ensemble import VotingClassifier\n",
        "\n",
        "# initializing all models\n",
        "RFC= RandomForestClassifier(n_estimators=20,max_depth=30)\n",
        "KNN = KNeighborsClassifier(n_neighbors = 5, metric = 'euclidean', p = 2)\n",
        "XGB = XGBClassifier(learning_rate=0.1,max_depth = 30, eval_metric='mlogloss')\n",
        "DTC = DecisionTreeClassifier(max_depth=10)\n",
        "BGC = BaggingClassifier(base_estimator = DTC, n_estimators = 20)\n",
        "\n",
        "# Making the final model using voting classifier\n",
        "final_model = VotingClassifier(\n",
        "                 estimators=[('Knn', KNN), ('xgb', XGB),('rfc',RFC), ('dt', DTC),('bgc', BGC)], voting='hard')"
      ]
    },
    {
      "cell_type": "markdown",
      "metadata": {
        "id": "f6VJEHKnRxoo"
      },
      "source": [
        "#### Model Training CASE 1:"
      ]
    },
    {
      "cell_type": "code",
      "execution_count": null,
      "metadata": {
        "id": "z8TyKpJzRxoo"
      },
      "outputs": [],
      "source": [
        "chain1 = ClassifierChain(final_model, order='random', random_state=6)\n",
        "y_train_pred1=chain1.fit(x_train1, y_train1).predict(x_train1)\n",
        "y_train_mode_pred1,y_train_root_pred1=zip(*y_train_pred1)"
      ]
    },
    {
      "cell_type": "markdown",
      "metadata": {
        "id": "6TQ8rMrTRxoo"
      },
      "source": [
        "#### Checking the Accuracy, F1 score, Recall for CASE 1:"
      ]
    },
    {
      "cell_type": "code",
      "execution_count": null,
      "metadata": {
        "id": "8OnlcE_rRxoo",
        "outputId": "f3e3d766-33a3-4444-d694-bbbda2efbae3"
      },
      "outputs": [
        {
          "name": "stdout",
          "output_type": "stream",
          "text": [
            "Accuracy:  0.9877984780897402\n",
            "F1 Score:  0.9877903155692275\n",
            "Recall:  0.9877984780897402\n"
          ]
        }
      ],
      "source": [
        "#Testing the Accuracy, F1 score, Recall of Chord Root\n",
        "print('Accuracy: ',accuracy_score(y_train1.Root,y_train_root_pred1))\n",
        "print('F1 Score: ',f1_score(y_train1.Root,y_train_root_pred1,average='weighted'))\n",
        "print('Recall: ',recall_score(y_train1.Root,y_train_root_pred1,average='weighted'))"
      ]
    },
    {
      "cell_type": "code",
      "execution_count": null,
      "metadata": {
        "id": "cbfEXLqERxop",
        "outputId": "a81a8f02-c282-441f-ef07-e8698046dad6"
      },
      "outputs": [
        {
          "name": "stdout",
          "output_type": "stream",
          "text": [
            "Accuracy:  0.938598792967725\n",
            "F1 Score:  0.9332514769407309\n",
            "Recall:  0.938598792967725\n"
          ]
        }
      ],
      "source": [
        "#Testing the Accuracy, F1 score, Recall of Chord Mode\n",
        "print('Accuracy: ',accuracy_score(y_train1.Mode,y_train_mode_pred1))\n",
        "print('F1 Score: ',f1_score(y_train1.Mode,y_train_mode_pred1,average='weighted'))\n",
        "print('Recall: ',recall_score(y_train1.Mode,y_train_mode_pred1,average='weighted'))"
      ]
    },
    {
      "cell_type": "markdown",
      "metadata": {
        "id": "oHdGHxagRxop"
      },
      "source": [
        "#### Model Training CASE 2:"
      ]
    },
    {
      "cell_type": "code",
      "execution_count": null,
      "metadata": {
        "id": "aBDhvGJ6Rxop"
      },
      "outputs": [],
      "source": [
        "chain2 = ClassifierChain(final_model, order='random', random_state=6)\n",
        "y_train_pred2=chain2.fit(x_train2, y_train2).predict(x_train2)\n",
        "y_train_mode_pred2,y_train_root_pred2=zip(*y_train_pred2)"
      ]
    },
    {
      "cell_type": "markdown",
      "metadata": {
        "id": "Y3un_WRhRxop"
      },
      "source": [
        "#### Checking the Accuracy, F1 score, Recall for CASE 2:"
      ]
    },
    {
      "cell_type": "code",
      "execution_count": null,
      "metadata": {
        "id": "QlvXpIBTRxop",
        "outputId": "3f387eb6-0303-482a-bc65-9209c27e4aa3"
      },
      "outputs": [
        {
          "name": "stdout",
          "output_type": "stream",
          "text": [
            "Accuracy:  0.9926470588235294\n",
            "F1 Score:  0.9927197595299354\n",
            "Recall:  0.9926470588235294\n"
          ]
        }
      ],
      "source": [
        "#Testing the Accuracy, F1 score, Recall of Chord Root\n",
        "print('Accuracy: ',accuracy_score(y_train2.Root,y_train_root_pred2))\n",
        "print('F1 Score: ',f1_score(y_train2.Root,y_train_root_pred2,average='weighted'))\n",
        "print('Recall: ',recall_score(y_train2.Root,y_train_root_pred2,average='weighted'))"
      ]
    },
    {
      "cell_type": "code",
      "execution_count": null,
      "metadata": {
        "id": "WJ9uTAnERxop",
        "outputId": "cf0d1d17-b1d0-4fbc-be41-453850430e8b"
      },
      "outputs": [
        {
          "name": "stdout",
          "output_type": "stream",
          "text": [
            "Accuracy:  0.9569327731092437\n",
            "F1 Score:  0.9538670945090301\n",
            "Recall:  0.9569327731092437\n"
          ]
        }
      ],
      "source": [
        "#Testing the Accuracy, F1 score, Recall of Chord Mode\n",
        "print('Accuracy: ',accuracy_score(y_train2.Mode,y_train_mode_pred2))\n",
        "print('F1 Score: ',f1_score(y_train2.Mode,y_train_mode_pred2,average='weighted'))\n",
        "print('Recall: ',recall_score(y_train2.Mode,y_train_mode_pred2,average='weighted'))"
      ]
    },
    {
      "cell_type": "markdown",
      "metadata": {
        "id": "parkpr2GRxoq"
      },
      "source": [
        "#### Model Training CASE 3:"
      ]
    },
    {
      "cell_type": "code",
      "execution_count": null,
      "metadata": {
        "id": "Jaz_o48vRxoq"
      },
      "outputs": [],
      "source": [
        "chain3 = ClassifierChain(final_model, order='random', random_state=6)\n",
        "y_train_pred3=chain3.fit(x_train3, y_train3).predict(x_train3)\n",
        "y_train_mode_pred3,y_train_root_pred3=zip(*y_train_pred3)"
      ]
    },
    {
      "cell_type": "markdown",
      "metadata": {
        "id": "etqweeBgRxoq"
      },
      "source": [
        "#### Checking the Accuracy, F1 score, Recall for CASE 3:"
      ]
    },
    {
      "cell_type": "code",
      "execution_count": null,
      "metadata": {
        "id": "QsjtbR1_Rxoq",
        "outputId": "4f17482b-f11e-4b2c-8ad8-54346031f6bc"
      },
      "outputs": [
        {
          "name": "stdout",
          "output_type": "stream",
          "text": [
            "Accuracy:  0.9846767422334173\n",
            "F1 Score:  0.9846491911246704\n",
            "Recall:  0.9846767422334173\n"
          ]
        }
      ],
      "source": [
        "#Testing the Accuracy, F1 score, Recall of Chord Root\n",
        "print('Accuracy: ',accuracy_score(y_train3.Root,y_train_root_pred3))\n",
        "print('F1 Score: ',f1_score(y_train3.Root,y_train_root_pred3,average='weighted'))\n",
        "print('Recall: ',recall_score(y_train3.Root,y_train_root_pred3,average='weighted'))"
      ]
    },
    {
      "cell_type": "code",
      "execution_count": null,
      "metadata": {
        "id": "IZ-YKvtzRxoq",
        "outputId": "3ce9f443-5784-4370-a3ac-52ab4d94f635"
      },
      "outputs": [
        {
          "name": "stdout",
          "output_type": "stream",
          "text": [
            "Accuracy:  0.941855583543241\n",
            "F1 Score:  0.9373331329738667\n",
            "Recall:  0.941855583543241\n"
          ]
        }
      ],
      "source": [
        "#Testing the Accuracy, F1 score, Recall of Chord Mode\n",
        "print('Accuracy: ',accuracy_score(y_train3.Mode,y_train_mode_pred3))\n",
        "print('F1 Score: ',f1_score(y_train3.Mode,y_train_mode_pred3,average='weighted'))\n",
        "print('Recall: ',recall_score(y_train3.Mode,y_train_mode_pred3,average='weighted'))"
      ]
    },
    {
      "cell_type": "markdown",
      "metadata": {
        "id": "AOVTWaueRxoq"
      },
      "source": [
        "### Justification of using the models"
      ]
    },
    {
      "cell_type": "markdown",
      "metadata": {
        "id": "95W3UKl8Rxor"
      },
      "source": [
        "The reason to use the ensemble techniques to perform the  multiclass classification as this make better predictions and achieve better performance than any single contributing model.This techniques combines the predictions from two or more models and improved the robustness or reliability in the average performance of a model.\n",
        "\n"
      ]
    },
    {
      "cell_type": "markdown",
      "metadata": {
        "id": "qL-aoamURxor"
      },
      "source": [
        "Here we are using the max voting method of ensembling technique with the help of Voting Classifier using the Sklearn library .It is generally used for classification problems. In this technique, multiple models are used to make predictions for each data point. The predictions by each model are considered as a ‘vote’. The predictions which we get from the majority of the models are used as the final prediction.\n",
        "\n",
        "We have used this approach for classification because its methodology utilizes the collective judgment of multiple classifiers for predicting data points and give the perfect accuracy."
      ]
    },
    {
      "cell_type": "markdown",
      "metadata": {
        "id": "o0my15TKRxor"
      },
      "source": [
        "### Performance Evaluation"
      ]
    },
    {
      "cell_type": "markdown",
      "metadata": {
        "id": "Q5TrWQ3iRxor"
      },
      "source": [
        "#### Prediction on Test data for CASE 1"
      ]
    },
    {
      "cell_type": "code",
      "execution_count": null,
      "metadata": {
        "id": "dJjpUAUcRxor"
      },
      "outputs": [],
      "source": [
        "y_test_pred1 = chain1.predict( x_test1 ) \n",
        "y_test_mode_pred1,y_test_root_pred1=zip(*y_test_pred1)"
      ]
    },
    {
      "cell_type": "markdown",
      "metadata": {
        "id": "AIUn257yRxor"
      },
      "source": [
        "#### Printing Accuracy, F1 score, Recall and Confusion matrix for CASE 1"
      ]
    },
    {
      "cell_type": "code",
      "execution_count": null,
      "metadata": {
        "id": "ePYZgcHWRxor",
        "outputId": "48fd12a2-d214-444a-89aa-35c133b6f5a3"
      },
      "outputs": [
        {
          "name": "stdout",
          "output_type": "stream",
          "text": [
            "Accuracy:  0.8987408184679958\n",
            "F1 Score:  0.8982169312701435\n",
            "Recall:  0.8987408184679958\n",
            "\n",
            "Confusion Matrix:\n",
            "[[142   0   3   5   7   5   0   2   0   5   2   2]\n",
            " [  0 144   0   0   5   0   3   1   3   1   1   0]\n",
            " [  1   0 139   1   1   0   2   6   1   8   0   4]\n",
            " [  0   0   0 158   0   1   1   0   0   0   0   0]\n",
            " [  3   2   1   0 132   1   1   3   1   3   0   2]\n",
            " [  5   1   1   4   0 160   0   0   0   2   7   0]\n",
            " [  1   2   2   2   1   0 148   0   0   1   0   2]\n",
            " [  4   2   4   2   4   0   0 135   0   1   0   2]\n",
            " [  0   1   0   2   0   0   0   0 139   0   0   0]\n",
            " [  6   6   4   0   4   3   2   0   0 129   1   2]\n",
            " [  0   2   0   0   0   1   0   2   0   0 147   0]\n",
            " [  0   1   3   0   4   0   4   2   3   2   0 140]]\n"
          ]
        }
      ],
      "source": [
        "#Testing the Accuracy, F1 score, Recall of Chord Root\n",
        "print('Accuracy: ',accuracy_score(y_test1.Root,y_test_root_pred1))\n",
        "print('F1 Score: ',f1_score(y_test1.Root,y_test_root_pred1,average='weighted'))\n",
        "print('Recall: ',recall_score(y_test1.Root,y_test_root_pred1,average='weighted'))\n",
        "print()\n",
        "print('Confusion Matrix:')\n",
        "print(confusion_matrix(y_test1.Root,y_test_root_pred1))"
      ]
    },
    {
      "cell_type": "code",
      "execution_count": null,
      "metadata": {
        "id": "tbQ1kGZmRxos",
        "outputId": "635b6358-a659-45bb-87e4-912070ce42b7"
      },
      "outputs": [
        {
          "name": "stdout",
          "output_type": "stream",
          "text": [
            "Accuracy:  0.8237145855194123\n",
            "F1 Score:  0.8046763085945938\n",
            "Recall:  0.8237145855194123\n",
            "\n",
            "Confusion Matrix:\n",
            "[[1047    2    0    6    3    0    1   37    0    0    1]\n",
            " [  31   15    1    0    0    0    0    1    0    0    1]\n",
            " [  12    1    1    3    0    0    0    2    0    0    0]\n",
            " [  52    0    0   54    3    2    0    9    0    0    1]\n",
            " [  13    0    0    2   34    3    0   11    0    1    0]\n",
            " [   6    0    0    0    1   13    2    3    0    0    0]\n",
            " [   4    0    0    0    0    1   30    3    0    0    0]\n",
            " [  51    0    0    1    3    0    3  351    0    0    3]\n",
            " [   0    0    0    0    0    0    0    4    0    1    1]\n",
            " [   9    0    0    1    2    1    1    5    0    7    0]\n",
            " [   9    0    0    0    1    0    0   21    0    0   18]]\n"
          ]
        }
      ],
      "source": [
        "#Testing the Accuracy, F1 score, Recall of Chord Mode\n",
        "print('Accuracy: ',accuracy_score(y_test1.Mode,y_test_mode_pred1))\n",
        "print('F1 Score: ',f1_score(y_test1.Mode,y_test_mode_pred1,average='weighted'))\n",
        "print('Recall: ',recall_score(y_test1.Mode,y_test_mode_pred1,average='weighted'))\n",
        "print()\n",
        "print('Confusion Matrix:')\n",
        "print(confusion_matrix(y_test1.Mode,y_test_mode_pred1))"
      ]
    },
    {
      "cell_type": "markdown",
      "metadata": {
        "id": "CF5IYeRqRxos"
      },
      "source": [
        "#### Prediction on Test data for CASE 2"
      ]
    },
    {
      "cell_type": "code",
      "execution_count": null,
      "metadata": {
        "id": "2_HxwdWSRxos"
      },
      "outputs": [],
      "source": [
        "y_test_pred2 = chain2.predict( x_test2 ) \n",
        "y_test_mode_pred2,y_test_root_pred2=zip(*y_test_pred2) "
      ]
    },
    {
      "cell_type": "markdown",
      "metadata": {
        "id": "c43_oMmjRxos"
      },
      "source": [
        "#### Printing Accuracy, F1 score, Recall and Confusion matrix for CASE 2"
      ]
    },
    {
      "cell_type": "code",
      "execution_count": null,
      "metadata": {
        "id": "s7AfWglZRxos",
        "outputId": "062200fe-a54c-4000-a11e-431ccbc37e4c"
      },
      "outputs": [
        {
          "name": "stdout",
          "output_type": "stream",
          "text": [
            "Accuracy:  0.8453824626865671\n",
            "F1 Score:  0.8446433451673366\n",
            "Recall:  0.8453824626865671\n",
            "\n",
            "Confusion Matrix:\n",
            "[[574   2  19  31  20   9   1  36   0  35  10   0]\n",
            " [  2 661   1   6  13   1   4   2   5   2  10   0]\n",
            " [  4   3 610   3   7   8   3  19   2  22   6  16]\n",
            " [  6   8   2 675   0   0   4  10   0   0   6   3]\n",
            " [ 15  30   7   1 587   0   2  14  16  21   1  22]\n",
            " [ 28  13  18  13   0 569   1   4   3  19  44   1]\n",
            " [  1  26   7   7   8   0 596   9  10  34   2  11]\n",
            " [ 22   3  31  11  28   1   3 568   0   3  20  21]\n",
            " [  0  15   0  11   2   0   0   0 696   2   0   1]\n",
            " [ 20  25  33   3  22   8  34  12   0 547   0   6]\n",
            " [  2   8   5  35   0  23   0  15   0   0 614   2]\n",
            " [ 12  18  29  15  19   0  21  22  20  10   4 553]]\n"
          ]
        }
      ],
      "source": [
        "#Testing the Accuracy, F1 score, Recall of Chord Root\n",
        "print('Accuracy: ',accuracy_score(y_test2.Root,y_test_root_pred2))\n",
        "print('F1 Score: ',f1_score(y_test2.Root,y_test_root_pred2,average='weighted'))\n",
        "print('Recall: ',recall_score(y_test2.Root,y_test_root_pred2,average='weighted'))\n",
        "print()\n",
        "print('Confusion Matrix:')\n",
        "print(confusion_matrix(y_test2.Root,y_test_root_pred2))"
      ]
    },
    {
      "cell_type": "code",
      "execution_count": null,
      "metadata": {
        "id": "CzTm-HSIRxos",
        "outputId": "a84bcb50-c9f3-4af0-839e-bc2db513255d"
      },
      "outputs": [
        {
          "name": "stdout",
          "output_type": "stream",
          "text": [
            "Accuracy:  0.7551305970149254\n",
            "F1 Score:  0.7189844233140936\n",
            "Recall:  0.7551305970149254\n",
            "\n",
            "Confusion Matrix:\n",
            "[[4714   13    1   48   10    0    4  245    0    0   16]\n",
            " [ 167   16    0    1    0    0    2    8    0    0    1]\n",
            " [  75    7    1    1    0    0    0   18    0    0    1]\n",
            " [ 329    4    9  105    5    0    2   56    0    1    3]\n",
            " [  79    0    2    1   95    7    3   44    0    0    1]\n",
            " [  45    0    0    1   25   16   12   20    0    0    1]\n",
            " [  66    0    0    3   17    0   66   39    0    0    1]\n",
            " [ 388    0    0    7   24    1    6 1413    2    1   10]\n",
            " [   9    0    0    0    1    0    0   21    0    0    1]\n",
            " [  29    0    1    2    8    0    0   42    0    6    4]\n",
            " [  66    0    0    8    6    0    1   68    0    0   44]]\n"
          ]
        }
      ],
      "source": [
        "#Testing the Accuracy, F1 score, Recall of Chord Mode\n",
        "print('Accuracy: ',accuracy_score(y_test2.Mode,y_test_mode_pred2))\n",
        "print('F1 Score: ',f1_score(y_test2.Mode,y_test_mode_pred2,average='weighted'))\n",
        "print('Recall: ',recall_score(y_test2.Mode,y_test_mode_pred2,average='weighted'))\n",
        "print()\n",
        "print('Confusion Matrix:')\n",
        "print(confusion_matrix(y_test2.Mode,y_test_mode_pred2))"
      ]
    },
    {
      "cell_type": "markdown",
      "metadata": {
        "id": "XSYZr4ohRxot"
      },
      "source": [
        "#### Prediction on Test data for CASE 3"
      ]
    },
    {
      "cell_type": "code",
      "execution_count": null,
      "metadata": {
        "id": "REHhBC6QRxot"
      },
      "outputs": [],
      "source": [
        "y_test_pred3 = chain3.predict( x_test3 ) \n",
        "y_test_mode_pred3,y_test_root_pred3=zip(*y_test_pred3)"
      ]
    },
    {
      "cell_type": "markdown",
      "metadata": {
        "id": "iZiLSfqLRxot"
      },
      "source": [
        "#### Printing Accuracy, F1 score, Recall and Confusion matrix for CASE 3"
      ]
    },
    {
      "cell_type": "code",
      "execution_count": null,
      "metadata": {
        "scrolled": true,
        "id": "hiVmB2vKRxot",
        "outputId": "ef268c89-47c0-4cff-ada4-cd612863fba3"
      },
      "outputs": [
        {
          "name": "stdout",
          "output_type": "stream",
          "text": [
            "Accuracy:  0.8906381192275399\n",
            "F1 Score:  0.8905952918172607\n",
            "Recall:  0.8906381192275399\n",
            "\n",
            "Confusion Matrix:\n",
            "[[352   1   7  14  11   9   0  12   0   8   4   1]\n",
            " [  0 365   0   2  12   1   2   4   2   2   9   0]\n",
            " [  5   0 333   1   2   2   2  15   1  14   2  10]\n",
            " [  5   2   1 382   0   3   1   0   0   0   2   4]\n",
            " [  6   6   4   0 345   1   0  11   7  10   1   8]\n",
            " [ 12   2   9   4   0 362   0   2   1   7  10   0]\n",
            " [  3   2   3   3   7   0 351   0   3  22   0   6]\n",
            " [  7   0  18   1  10   1   1 347   0   2   4   5]\n",
            " [  0   1   2   2   0   0   0   0 375   1   0   1]\n",
            " [ 11   7  19   1  11   6   6   3   0 341   0   2]\n",
            " [  0   1   1  12   0   8   0   2   0   0 343   1]\n",
            " [  2   8   4   2   8   0   9   7   5   6   0 347]]\n"
          ]
        }
      ],
      "source": [
        "#Testing the Accuracy, F1 score, Recall of Chord Root\n",
        "print('Accuracy: ',accuracy_score(y_test3.Root,y_test_root_pred3))\n",
        "print('F1 Score: ',f1_score(y_test3.Root,y_test_root_pred3,average='weighted'))\n",
        "print('Recall: ',recall_score(y_test3.Root,y_test_root_pred3,average='weighted'))\n",
        "print()\n",
        "print('Confusion Matrix:')\n",
        "print(confusion_matrix(y_test3.Root,y_test_root_pred3))"
      ]
    },
    {
      "cell_type": "code",
      "execution_count": null,
      "metadata": {
        "id": "Ev0VFX-9Rxou",
        "outputId": "3b29d4e9-a196-4cf7-f7d8-a7d3197e2f74"
      },
      "outputs": [
        {
          "name": "stdout",
          "output_type": "stream",
          "text": [
            "Accuracy:  0.802896725440806\n",
            "F1 Score:  0.7770387170061058\n",
            "Recall:  0.802896725440806\n",
            "\n",
            "Confusion Matrix:\n",
            "[[2636    2    3   14    6    0    2   99    0    1    2]\n",
            " [  88   24    5    3    0    0    0    3    0    0    0]\n",
            " [  39    0    7    3    1    1    0    4    0    0    0]\n",
            " [ 172    0    3   88    5    0    2   29    0    0    0]\n",
            " [  25    0    0    2   74    8    0   20    0    1    0]\n",
            " [  14    0    0    2   16   19    9    6    0    0    0]\n",
            " [  13    0    0    0    3   11   69   16    0    0    0]\n",
            " [ 152    0    0    7    5    1    2  863    0    1    2]\n",
            " [   5    0    0    0    0    0    1   10    0    1    1]\n",
            " [  12    0    0    1    3    0    1   26    0    8    0]\n",
            " [  31    0    0    7    2    0    0   33    0    2   37]]\n"
          ]
        }
      ],
      "source": [
        "#Testing the Accuracy, F1 score, Recall of Chord Mode\n",
        "print('Accuracy: ',accuracy_score(y_test3.Mode,y_test_mode_pred3))\n",
        "print('F1 Score: ',f1_score(y_test3.Mode,y_test_mode_pred3,average='weighted'))\n",
        "print('Recall: ',recall_score(y_test3.Mode,y_test_mode_pred3,average='weighted'))\n",
        "print()\n",
        "print('Confusion Matrix:')\n",
        "print(confusion_matrix(y_test3.Mode,y_test_mode_pred3))"
      ]
    },
    {
      "cell_type": "markdown",
      "metadata": {
        "id": "nZVzkB2fRxou"
      },
      "source": [
        "#### Comparison of the Accuracy of Train and Test data for Chord Root"
      ]
    },
    {
      "cell_type": "code",
      "execution_count": null,
      "metadata": {
        "id": "ewLdRnaDRxou",
        "outputId": "c1b12125-f95c-463c-9e8a-b935f266941a"
      },
      "outputs": [
        {
          "data": {
            "text/html": [
              "<div>\n",
              "<style scoped>\n",
              "    .dataframe tbody tr th:only-of-type {\n",
              "        vertical-align: middle;\n",
              "    }\n",
              "\n",
              "    .dataframe tbody tr th {\n",
              "        vertical-align: top;\n",
              "    }\n",
              "\n",
              "    .dataframe thead th {\n",
              "        text-align: right;\n",
              "    }\n",
              "</style>\n",
              "<table border=\"1\" class=\"dataframe\">\n",
              "  <thead>\n",
              "    <tr style=\"text-align: right;\">\n",
              "      <th></th>\n",
              "      <th>Train Accuracy Root</th>\n",
              "      <th>Test Accuracy Root</th>\n",
              "    </tr>\n",
              "  </thead>\n",
              "  <tbody>\n",
              "    <tr>\n",
              "      <th>case1</th>\n",
              "      <td>0.987798</td>\n",
              "      <td>0.898741</td>\n",
              "    </tr>\n",
              "    <tr>\n",
              "      <th>case2</th>\n",
              "      <td>0.992647</td>\n",
              "      <td>0.845382</td>\n",
              "    </tr>\n",
              "    <tr>\n",
              "      <th>case3</th>\n",
              "      <td>0.984677</td>\n",
              "      <td>0.890638</td>\n",
              "    </tr>\n",
              "  </tbody>\n",
              "</table>\n",
              "</div>"
            ],
            "text/plain": [
              "       Train Accuracy Root  Test Accuracy Root\n",
              "case1             0.987798            0.898741\n",
              "case2             0.992647            0.845382\n",
              "case3             0.984677            0.890638"
            ]
          },
          "execution_count": 66,
          "metadata": {},
          "output_type": "execute_result"
        }
      ],
      "source": [
        "acctrr1=accuracy_score(y_train1.Root,y_train_root_pred1)\n",
        "acctrr2=accuracy_score(y_train2.Root,y_train_root_pred2)\n",
        "acctrr3=accuracy_score(y_train3.Root,y_train_root_pred3)\n",
        "\n",
        "acctsr1=accuracy_score(y_test1.Root,y_test_root_pred1)\n",
        "acctsr2=accuracy_score(y_test2.Root,y_test_root_pred2)\n",
        "acctsr3=accuracy_score(y_test3.Root,y_test_root_pred3)\n",
        "\n",
        "train_root=[acctrr1,acctrr2,acctrr3]\n",
        "test_root=[acctsr1,acctsr2,acctsr3]\n",
        "\n",
        "root=pd.DataFrame(list(zip(train_root, test_root)),columns=['Train Accuracy Root','Test Accuracy Root'],\n",
        "                  index=['case1','case2','case3'])\n",
        "root"
      ]
    },
    {
      "cell_type": "markdown",
      "metadata": {
        "id": "EEGI6x1bRxou"
      },
      "source": [
        "#### Comparison of the Accuracy of Train and Test data for Chord Mode"
      ]
    },
    {
      "cell_type": "code",
      "execution_count": null,
      "metadata": {
        "id": "Z3L-ae_aRxou",
        "outputId": "e5ed0147-20bc-4958-c748-74bf6569e987"
      },
      "outputs": [
        {
          "data": {
            "text/html": [
              "<div>\n",
              "<style scoped>\n",
              "    .dataframe tbody tr th:only-of-type {\n",
              "        vertical-align: middle;\n",
              "    }\n",
              "\n",
              "    .dataframe tbody tr th {\n",
              "        vertical-align: top;\n",
              "    }\n",
              "\n",
              "    .dataframe thead th {\n",
              "        text-align: right;\n",
              "    }\n",
              "</style>\n",
              "<table border=\"1\" class=\"dataframe\">\n",
              "  <thead>\n",
              "    <tr style=\"text-align: right;\">\n",
              "      <th></th>\n",
              "      <th>Train Accuracy Mode</th>\n",
              "      <th>Test Accuracy Mode</th>\n",
              "    </tr>\n",
              "  </thead>\n",
              "  <tbody>\n",
              "    <tr>\n",
              "      <th>case1</th>\n",
              "      <td>0.938599</td>\n",
              "      <td>0.823715</td>\n",
              "    </tr>\n",
              "    <tr>\n",
              "      <th>case2</th>\n",
              "      <td>0.956933</td>\n",
              "      <td>0.755131</td>\n",
              "    </tr>\n",
              "    <tr>\n",
              "      <th>case3</th>\n",
              "      <td>0.941856</td>\n",
              "      <td>0.802897</td>\n",
              "    </tr>\n",
              "  </tbody>\n",
              "</table>\n",
              "</div>"
            ],
            "text/plain": [
              "       Train Accuracy Mode  Test Accuracy Mode\n",
              "case1             0.938599            0.823715\n",
              "case2             0.956933            0.755131\n",
              "case3             0.941856            0.802897"
            ]
          },
          "execution_count": 67,
          "metadata": {},
          "output_type": "execute_result"
        }
      ],
      "source": [
        "acctrr1=accuracy_score(y_train1.Mode,y_train_mode_pred1)\n",
        "acctrr2=accuracy_score(y_train2.Mode,y_train_mode_pred2)\n",
        "acctrr3=accuracy_score(y_train3.Mode,y_train_mode_pred3)\n",
        "\n",
        "acctsr1=accuracy_score(y_test1.Mode,y_test_mode_pred1)\n",
        "acctsr2=accuracy_score(y_test2.Mode,y_test_mode_pred2)\n",
        "acctsr3=accuracy_score(y_test3.Mode,y_test_mode_pred3)\n",
        "\n",
        "train_mode=[acctrr1,acctrr2,acctrr3]\n",
        "test_mode=[acctsr1,acctsr2,acctsr3]\n",
        "\n",
        "mode=pd.DataFrame(list(zip(train_mode, test_mode)),columns=['Train Accuracy Mode','Test Accuracy Mode'],\n",
        "                 index=['case1','case2','case3'])\n",
        "mode"
      ]
    },
    {
      "cell_type": "markdown",
      "metadata": {
        "id": "eQeWusrPRxou"
      },
      "source": [
        "### Analysis for All Cases"
      ]
    },
    {
      "cell_type": "markdown",
      "metadata": {
        "id": "m1ecjs0ARxou"
      },
      "source": [
        "Our model is performing better on target label Chord Root compared to Chord Mode  in all the cases .Training and Test accuracies of Chord Root are much better compared to Chord Mode in all the cases."
      ]
    },
    {
      "cell_type": "markdown",
      "metadata": {
        "id": "c_yc20_LRxov"
      },
      "source": [
        "### Observation"
      ]
    },
    {
      "cell_type": "markdown",
      "metadata": {
        "id": "z5HCnopKRxov"
      },
      "source": [
        "**CASE 1**\n",
        "\n",
        "    -Accuracy for test data is better by selecting Chord Root as class label in compared to Chord Mode\n",
        "\n",
        "**CASE 2**\n",
        "\n",
        "    -Accuracy for test data is better by selecting Chord Root as class label in compared to Chord Mode\n",
        "\n",
        "\n",
        "**CASE 3**\n",
        "\n",
        "    -Accuracy for test data is better by selecting Chord Root as class label in compared to Chord Mode\n"
      ]
    },
    {
      "cell_type": "markdown",
      "metadata": {
        "id": "Bq8uTfkBRxov"
      },
      "source": [
        "### Conclusion"
      ]
    },
    {
      "cell_type": "markdown",
      "metadata": {
        "id": "YmRDCJAYRxov"
      },
      "source": [
        "With accuracies of more than 80% the ensemble techniques seems to perform good for this classification problem.\n",
        "We see that model worked very well while classify chord Root as labels compared to Chrod Mode.This is because we can find that the pitch features are easier to capture when considering chords Root as labels.\n",
        "The model can be further improved with more data."
      ]
    }
  ],
  "metadata": {
    "kernelspec": {
      "display_name": "Python 3",
      "language": "python",
      "name": "python3"
    },
    "language_info": {
      "codemirror_mode": {
        "name": "ipython",
        "version": 3
      },
      "file_extension": ".py",
      "mimetype": "text/x-python",
      "name": "python",
      "nbconvert_exporter": "python",
      "pygments_lexer": "ipython3",
      "version": "3.7.4"
    },
    "colab": {
      "name": "JsbachChoralsHarmony_Ensemble.ipynb",
      "provenance": []
    }
  },
  "nbformat": 4,
  "nbformat_minor": 0
}